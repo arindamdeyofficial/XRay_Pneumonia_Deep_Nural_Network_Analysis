{
  "nbformat": 4,
  "nbformat_minor": 0,
  "metadata": {
    "colab": {
      "name": "Deep Learning Feature",
      "provenance": [],
      "collapsed_sections": [],
      "authorship_tag": "ABX9TyPsN53by5drXFFUjJOx8Hl6",
      "include_colab_link": true
    },
    "kernelspec": {
      "name": "python3",
      "display_name": "Python 3"
    },
    "language_info": {
      "name": "python"
    }
  },
  "cells": [
    {
      "cell_type": "markdown",
      "metadata": {
        "id": "view-in-github",
        "colab_type": "text"
      },
      "source": [
        "<a href=\"https://colab.research.google.com/github/arindamdeyofficial/XRay_Pneumonia_Deep_Nural_Network_Analysis/blob/main/Deep_Learning_Feature.ipynb\" target=\"_parent\"><img src=\"https://colab.research.google.com/assets/colab-badge.svg\" alt=\"Open In Colab\"/></a>"
      ]
    },
    {
      "cell_type": "markdown",
      "source": [
        "Assignment 1 Set 5\n",
        "###Deep Learning (S1-21_DSECLZG524) - DL Group 037 - SEC-3\n",
        "* Arindam Dey - 2020FC04251\n",
        "* Kaushik Dubey - 2020FC04245\n",
        "* Mohammad Attaullah - 2020FC04274"
      ],
      "metadata": {
        "id": "SVrLehRttDw2"
      }
    },
    {
      "cell_type": "markdown",
      "source": [
        "Question No.2. Dataset: data1_0.5-1.csv  Download data1_0.5-1.csv "
      ],
      "metadata": {
        "id": "qvrAhgOqkY1c"
      }
    },
    {
      "cell_type": "markdown",
      "source": [
        "Train two single/double hidden layer deep networks by varying the number of hidden nodes (4, 8, 12, 16) in each layer with 70% training and 30% validation data. Use appropriate learning rate, activation, and loss functions and also mention the reason for choosing the same. Report, compare, and explain the observed accuracy and minimum loss achieved. [0.5+1 mark]"
      ],
      "metadata": {
        "id": "jpw13QR27DFk"
      }
    },
    {
      "cell_type": "code",
      "execution_count": null,
      "metadata": {
        "id": "E_OjKzMxnbiO",
        "colab": {
          "base_uri": "https://localhost:8080/"
        },
        "outputId": "a4edfa54-470e-4c23-86a1-aa0f4cb1a9c3"
      },
      "outputs": [
        {
          "output_type": "stream",
          "name": "stdout",
          "text": [
            "Mounted at /content/drive\n"
          ]
        }
      ],
      "source": [
        "import pandas as pd\n",
        "import numpy as np\n",
        "import tensorflow as tf\n",
        "#from sklearn import preprocessing\n",
        "from sklearn.model_selection import train_test_split\n",
        "from tensorflow.keras.models import Sequential\n",
        "from tensorflow.keras.layers import Dense, Dropout\n",
        "from sklearn.metrics import accuracy_score, confusion_matrix #, precision_score, recall_score, f1_score, precision_recall_curve, auc\n",
        "import matplotlib.pyplot as plt\n",
        "from tensorflow.keras import optimizers\n",
        "from sklearn.decomposition import PCA\n",
        "import seaborn as sns\n",
        "#from tensorflow.keras import backend as K\n",
        "from tensorflow.keras.optimizers import Adam\n",
        "\n",
        "#google drive\n",
        "from google.colab import drive\n",
        "drive.mount('/content/drive')"
      ]
    },
    {
      "cell_type": "code",
      "source": [
        "print(tf.__version__)"
      ],
      "metadata": {
        "colab": {
          "base_uri": "https://localhost:8080/"
        },
        "id": "X16xniIS_jy4",
        "outputId": "525456c4-cfb3-499f-b524-947150717e7d"
      },
      "execution_count": null,
      "outputs": [
        {
          "output_type": "stream",
          "name": "stdout",
          "text": [
            "2.7.0\n"
          ]
        }
      ]
    },
    {
      "cell_type": "markdown",
      "source": [
        "1. Load the attached csv file in python. Each row consists of feature 1, feature 2, feature 3 & class label.\n",
        " "
      ],
      "metadata": {
        "id": "prqkuck95Bxu"
      }
    },
    {
      "cell_type": "code",
      "source": [
        "data = pd.read_csv('/content/drive/My Drive/Colab Notebooks/data1_0.5.csv')\n",
        "data"
      ],
      "metadata": {
        "id": "YdqrxU7Yn2LA",
        "colab": {
          "base_uri": "https://localhost:8080/",
          "height": 424
        },
        "outputId": "e0220521-fdf4-40fd-899b-97a6e9aab0d4"
      },
      "execution_count": null,
      "outputs": [
        {
          "output_type": "execute_result",
          "data": {
            "text/html": [
              "\n",
              "  <div id=\"df-fdeab0d9-13c8-49a6-8d41-aa2fd1595774\">\n",
              "    <div class=\"colab-df-container\">\n",
              "      <div>\n",
              "<style scoped>\n",
              "    .dataframe tbody tr th:only-of-type {\n",
              "        vertical-align: middle;\n",
              "    }\n",
              "\n",
              "    .dataframe tbody tr th {\n",
              "        vertical-align: top;\n",
              "    }\n",
              "\n",
              "    .dataframe thead th {\n",
              "        text-align: right;\n",
              "    }\n",
              "</style>\n",
              "<table border=\"1\" class=\"dataframe\">\n",
              "  <thead>\n",
              "    <tr style=\"text-align: right;\">\n",
              "      <th></th>\n",
              "      <th>0.045999539</th>\n",
              "      <th>-0.18176747</th>\n",
              "      <th>0.187497655</th>\n",
              "      <th>0</th>\n",
              "      <th>0.1</th>\n",
              "    </tr>\n",
              "  </thead>\n",
              "  <tbody>\n",
              "    <tr>\n",
              "      <th>0</th>\n",
              "      <td>0.102303</td>\n",
              "      <td>0.116327</td>\n",
              "      <td>0.154913</td>\n",
              "      <td>0</td>\n",
              "      <td>0</td>\n",
              "    </tr>\n",
              "    <tr>\n",
              "      <th>1</th>\n",
              "      <td>-0.131546</td>\n",
              "      <td>-0.038680</td>\n",
              "      <td>0.137115</td>\n",
              "      <td>0</td>\n",
              "      <td>0</td>\n",
              "    </tr>\n",
              "    <tr>\n",
              "      <th>2</th>\n",
              "      <td>0.007224</td>\n",
              "      <td>-0.067146</td>\n",
              "      <td>0.067533</td>\n",
              "      <td>0</td>\n",
              "      <td>0</td>\n",
              "    </tr>\n",
              "    <tr>\n",
              "      <th>3</th>\n",
              "      <td>0.112290</td>\n",
              "      <td>0.040584</td>\n",
              "      <td>0.119399</td>\n",
              "      <td>0</td>\n",
              "      <td>0</td>\n",
              "    </tr>\n",
              "    <tr>\n",
              "      <th>4</th>\n",
              "      <td>-0.178326</td>\n",
              "      <td>-0.023989</td>\n",
              "      <td>0.179932</td>\n",
              "      <td>0</td>\n",
              "      <td>0</td>\n",
              "    </tr>\n",
              "    <tr>\n",
              "      <th>...</th>\n",
              "      <td>...</td>\n",
              "      <td>...</td>\n",
              "      <td>...</td>\n",
              "      <td>...</td>\n",
              "      <td>...</td>\n",
              "    </tr>\n",
              "    <tr>\n",
              "      <th>938</th>\n",
              "      <td>0.649913</td>\n",
              "      <td>0.079710</td>\n",
              "      <td>0.654783</td>\n",
              "      <td>1</td>\n",
              "      <td>1</td>\n",
              "    </tr>\n",
              "    <tr>\n",
              "      <th>939</th>\n",
              "      <td>-0.290557</td>\n",
              "      <td>0.569978</td>\n",
              "      <td>0.639764</td>\n",
              "      <td>1</td>\n",
              "      <td>1</td>\n",
              "    </tr>\n",
              "    <tr>\n",
              "      <th>940</th>\n",
              "      <td>-0.093805</td>\n",
              "      <td>0.601935</td>\n",
              "      <td>0.609200</td>\n",
              "      <td>1</td>\n",
              "      <td>1</td>\n",
              "    </tr>\n",
              "    <tr>\n",
              "      <th>941</th>\n",
              "      <td>0.633067</td>\n",
              "      <td>-0.111023</td>\n",
              "      <td>0.642729</td>\n",
              "      <td>1</td>\n",
              "      <td>1</td>\n",
              "    </tr>\n",
              "    <tr>\n",
              "      <th>942</th>\n",
              "      <td>-0.363217</td>\n",
              "      <td>-0.479049</td>\n",
              "      <td>0.601178</td>\n",
              "      <td>1</td>\n",
              "      <td>1</td>\n",
              "    </tr>\n",
              "  </tbody>\n",
              "</table>\n",
              "<p>943 rows × 5 columns</p>\n",
              "</div>\n",
              "      <button class=\"colab-df-convert\" onclick=\"convertToInteractive('df-fdeab0d9-13c8-49a6-8d41-aa2fd1595774')\"\n",
              "              title=\"Convert this dataframe to an interactive table.\"\n",
              "              style=\"display:none;\">\n",
              "        \n",
              "  <svg xmlns=\"http://www.w3.org/2000/svg\" height=\"24px\"viewBox=\"0 0 24 24\"\n",
              "       width=\"24px\">\n",
              "    <path d=\"M0 0h24v24H0V0z\" fill=\"none\"/>\n",
              "    <path d=\"M18.56 5.44l.94 2.06.94-2.06 2.06-.94-2.06-.94-.94-2.06-.94 2.06-2.06.94zm-11 1L8.5 8.5l.94-2.06 2.06-.94-2.06-.94L8.5 2.5l-.94 2.06-2.06.94zm10 10l.94 2.06.94-2.06 2.06-.94-2.06-.94-.94-2.06-.94 2.06-2.06.94z\"/><path d=\"M17.41 7.96l-1.37-1.37c-.4-.4-.92-.59-1.43-.59-.52 0-1.04.2-1.43.59L10.3 9.45l-7.72 7.72c-.78.78-.78 2.05 0 2.83L4 21.41c.39.39.9.59 1.41.59.51 0 1.02-.2 1.41-.59l7.78-7.78 2.81-2.81c.8-.78.8-2.07 0-2.86zM5.41 20L4 18.59l7.72-7.72 1.47 1.35L5.41 20z\"/>\n",
              "  </svg>\n",
              "      </button>\n",
              "      \n",
              "  <style>\n",
              "    .colab-df-container {\n",
              "      display:flex;\n",
              "      flex-wrap:wrap;\n",
              "      gap: 12px;\n",
              "    }\n",
              "\n",
              "    .colab-df-convert {\n",
              "      background-color: #E8F0FE;\n",
              "      border: none;\n",
              "      border-radius: 50%;\n",
              "      cursor: pointer;\n",
              "      display: none;\n",
              "      fill: #1967D2;\n",
              "      height: 32px;\n",
              "      padding: 0 0 0 0;\n",
              "      width: 32px;\n",
              "    }\n",
              "\n",
              "    .colab-df-convert:hover {\n",
              "      background-color: #E2EBFA;\n",
              "      box-shadow: 0px 1px 2px rgba(60, 64, 67, 0.3), 0px 1px 3px 1px rgba(60, 64, 67, 0.15);\n",
              "      fill: #174EA6;\n",
              "    }\n",
              "\n",
              "    [theme=dark] .colab-df-convert {\n",
              "      background-color: #3B4455;\n",
              "      fill: #D2E3FC;\n",
              "    }\n",
              "\n",
              "    [theme=dark] .colab-df-convert:hover {\n",
              "      background-color: #434B5C;\n",
              "      box-shadow: 0px 1px 3px 1px rgba(0, 0, 0, 0.15);\n",
              "      filter: drop-shadow(0px 1px 2px rgba(0, 0, 0, 0.3));\n",
              "      fill: #FFFFFF;\n",
              "    }\n",
              "  </style>\n",
              "\n",
              "      <script>\n",
              "        const buttonEl =\n",
              "          document.querySelector('#df-fdeab0d9-13c8-49a6-8d41-aa2fd1595774 button.colab-df-convert');\n",
              "        buttonEl.style.display =\n",
              "          google.colab.kernel.accessAllowed ? 'block' : 'none';\n",
              "\n",
              "        async function convertToInteractive(key) {\n",
              "          const element = document.querySelector('#df-fdeab0d9-13c8-49a6-8d41-aa2fd1595774');\n",
              "          const dataTable =\n",
              "            await google.colab.kernel.invokeFunction('convertToInteractive',\n",
              "                                                     [key], {});\n",
              "          if (!dataTable) return;\n",
              "\n",
              "          const docLinkHtml = 'Like what you see? Visit the ' +\n",
              "            '<a target=\"_blank\" href=https://colab.research.google.com/notebooks/data_table.ipynb>data table notebook</a>'\n",
              "            + ' to learn more about interactive tables.';\n",
              "          element.innerHTML = '';\n",
              "          dataTable['output_type'] = 'display_data';\n",
              "          await google.colab.output.renderOutput(dataTable, element);\n",
              "          const docLink = document.createElement('div');\n",
              "          docLink.innerHTML = docLinkHtml;\n",
              "          element.appendChild(docLink);\n",
              "        }\n",
              "      </script>\n",
              "    </div>\n",
              "  </div>\n",
              "  "
            ],
            "text/plain": [
              "     0.045999539  -0.18176747  0.187497655  0  0.1\n",
              "0       0.102303     0.116327     0.154913  0    0\n",
              "1      -0.131546    -0.038680     0.137115  0    0\n",
              "2       0.007224    -0.067146     0.067533  0    0\n",
              "3       0.112290     0.040584     0.119399  0    0\n",
              "4      -0.178326    -0.023989     0.179932  0    0\n",
              "..           ...          ...          ... ..  ...\n",
              "938     0.649913     0.079710     0.654783  1    1\n",
              "939    -0.290557     0.569978     0.639764  1    1\n",
              "940    -0.093805     0.601935     0.609200  1    1\n",
              "941     0.633067    -0.111023     0.642729  1    1\n",
              "942    -0.363217    -0.479049     0.601178  1    1\n",
              "\n",
              "[943 rows x 5 columns]"
            ]
          },
          "metadata": {},
          "execution_count": 2
        }
      ]
    },
    {
      "cell_type": "code",
      "source": [
        "if len(data.columns) > 4 and (data.iloc[:,3].equals(data.iloc[:,4])):    \n",
        "    data.drop(data.columns[[4]], axis = 1, inplace = True)"
      ],
      "metadata": {
        "id": "AKUFQ6WZkS1M"
      },
      "execution_count": null,
      "outputs": []
    },
    {
      "cell_type": "code",
      "source": [
        "data.columns= ['c1','c2','c3','target']"
      ],
      "metadata": {
        "id": "0rtM68S8h0AY"
      },
      "execution_count": null,
      "outputs": []
    },
    {
      "cell_type": "code",
      "source": [
        "data.head()"
      ],
      "metadata": {
        "colab": {
          "base_uri": "https://localhost:8080/",
          "height": 206
        },
        "id": "AdonqrT_kIKc",
        "outputId": "7a852267-ad8d-4edd-b0e6-cc0477efa0b7"
      },
      "execution_count": null,
      "outputs": [
        {
          "output_type": "execute_result",
          "data": {
            "text/html": [
              "\n",
              "  <div id=\"df-e5737e8a-aba6-4ed5-9107-b78d9e8459c5\">\n",
              "    <div class=\"colab-df-container\">\n",
              "      <div>\n",
              "<style scoped>\n",
              "    .dataframe tbody tr th:only-of-type {\n",
              "        vertical-align: middle;\n",
              "    }\n",
              "\n",
              "    .dataframe tbody tr th {\n",
              "        vertical-align: top;\n",
              "    }\n",
              "\n",
              "    .dataframe thead th {\n",
              "        text-align: right;\n",
              "    }\n",
              "</style>\n",
              "<table border=\"1\" class=\"dataframe\">\n",
              "  <thead>\n",
              "    <tr style=\"text-align: right;\">\n",
              "      <th></th>\n",
              "      <th>c1</th>\n",
              "      <th>c2</th>\n",
              "      <th>c3</th>\n",
              "      <th>target</th>\n",
              "    </tr>\n",
              "  </thead>\n",
              "  <tbody>\n",
              "    <tr>\n",
              "      <th>0</th>\n",
              "      <td>0.102303</td>\n",
              "      <td>0.116327</td>\n",
              "      <td>0.154913</td>\n",
              "      <td>0</td>\n",
              "    </tr>\n",
              "    <tr>\n",
              "      <th>1</th>\n",
              "      <td>-0.131546</td>\n",
              "      <td>-0.038680</td>\n",
              "      <td>0.137115</td>\n",
              "      <td>0</td>\n",
              "    </tr>\n",
              "    <tr>\n",
              "      <th>2</th>\n",
              "      <td>0.007224</td>\n",
              "      <td>-0.067146</td>\n",
              "      <td>0.067533</td>\n",
              "      <td>0</td>\n",
              "    </tr>\n",
              "    <tr>\n",
              "      <th>3</th>\n",
              "      <td>0.112290</td>\n",
              "      <td>0.040584</td>\n",
              "      <td>0.119399</td>\n",
              "      <td>0</td>\n",
              "    </tr>\n",
              "    <tr>\n",
              "      <th>4</th>\n",
              "      <td>-0.178326</td>\n",
              "      <td>-0.023989</td>\n",
              "      <td>0.179932</td>\n",
              "      <td>0</td>\n",
              "    </tr>\n",
              "  </tbody>\n",
              "</table>\n",
              "</div>\n",
              "      <button class=\"colab-df-convert\" onclick=\"convertToInteractive('df-e5737e8a-aba6-4ed5-9107-b78d9e8459c5')\"\n",
              "              title=\"Convert this dataframe to an interactive table.\"\n",
              "              style=\"display:none;\">\n",
              "        \n",
              "  <svg xmlns=\"http://www.w3.org/2000/svg\" height=\"24px\"viewBox=\"0 0 24 24\"\n",
              "       width=\"24px\">\n",
              "    <path d=\"M0 0h24v24H0V0z\" fill=\"none\"/>\n",
              "    <path d=\"M18.56 5.44l.94 2.06.94-2.06 2.06-.94-2.06-.94-.94-2.06-.94 2.06-2.06.94zm-11 1L8.5 8.5l.94-2.06 2.06-.94-2.06-.94L8.5 2.5l-.94 2.06-2.06.94zm10 10l.94 2.06.94-2.06 2.06-.94-2.06-.94-.94-2.06-.94 2.06-2.06.94z\"/><path d=\"M17.41 7.96l-1.37-1.37c-.4-.4-.92-.59-1.43-.59-.52 0-1.04.2-1.43.59L10.3 9.45l-7.72 7.72c-.78.78-.78 2.05 0 2.83L4 21.41c.39.39.9.59 1.41.59.51 0 1.02-.2 1.41-.59l7.78-7.78 2.81-2.81c.8-.78.8-2.07 0-2.86zM5.41 20L4 18.59l7.72-7.72 1.47 1.35L5.41 20z\"/>\n",
              "  </svg>\n",
              "      </button>\n",
              "      \n",
              "  <style>\n",
              "    .colab-df-container {\n",
              "      display:flex;\n",
              "      flex-wrap:wrap;\n",
              "      gap: 12px;\n",
              "    }\n",
              "\n",
              "    .colab-df-convert {\n",
              "      background-color: #E8F0FE;\n",
              "      border: none;\n",
              "      border-radius: 50%;\n",
              "      cursor: pointer;\n",
              "      display: none;\n",
              "      fill: #1967D2;\n",
              "      height: 32px;\n",
              "      padding: 0 0 0 0;\n",
              "      width: 32px;\n",
              "    }\n",
              "\n",
              "    .colab-df-convert:hover {\n",
              "      background-color: #E2EBFA;\n",
              "      box-shadow: 0px 1px 2px rgba(60, 64, 67, 0.3), 0px 1px 3px 1px rgba(60, 64, 67, 0.15);\n",
              "      fill: #174EA6;\n",
              "    }\n",
              "\n",
              "    [theme=dark] .colab-df-convert {\n",
              "      background-color: #3B4455;\n",
              "      fill: #D2E3FC;\n",
              "    }\n",
              "\n",
              "    [theme=dark] .colab-df-convert:hover {\n",
              "      background-color: #434B5C;\n",
              "      box-shadow: 0px 1px 3px 1px rgba(0, 0, 0, 0.15);\n",
              "      filter: drop-shadow(0px 1px 2px rgba(0, 0, 0, 0.3));\n",
              "      fill: #FFFFFF;\n",
              "    }\n",
              "  </style>\n",
              "\n",
              "      <script>\n",
              "        const buttonEl =\n",
              "          document.querySelector('#df-e5737e8a-aba6-4ed5-9107-b78d9e8459c5 button.colab-df-convert');\n",
              "        buttonEl.style.display =\n",
              "          google.colab.kernel.accessAllowed ? 'block' : 'none';\n",
              "\n",
              "        async function convertToInteractive(key) {\n",
              "          const element = document.querySelector('#df-e5737e8a-aba6-4ed5-9107-b78d9e8459c5');\n",
              "          const dataTable =\n",
              "            await google.colab.kernel.invokeFunction('convertToInteractive',\n",
              "                                                     [key], {});\n",
              "          if (!dataTable) return;\n",
              "\n",
              "          const docLinkHtml = 'Like what you see? Visit the ' +\n",
              "            '<a target=\"_blank\" href=https://colab.research.google.com/notebooks/data_table.ipynb>data table notebook</a>'\n",
              "            + ' to learn more about interactive tables.';\n",
              "          element.innerHTML = '';\n",
              "          dataTable['output_type'] = 'display_data';\n",
              "          await google.colab.output.renderOutput(dataTable, element);\n",
              "          const docLink = document.createElement('div');\n",
              "          docLink.innerHTML = docLinkHtml;\n",
              "          element.appendChild(docLink);\n",
              "        }\n",
              "      </script>\n",
              "    </div>\n",
              "  </div>\n",
              "  "
            ],
            "text/plain": [
              "         c1        c2        c3  target\n",
              "0  0.102303  0.116327  0.154913       0\n",
              "1 -0.131546 -0.038680  0.137115       0\n",
              "2  0.007224 -0.067146  0.067533       0\n",
              "3  0.112290  0.040584  0.119399       0\n",
              "4 -0.178326 -0.023989  0.179932       0"
            ]
          },
          "metadata": {},
          "execution_count": 5
        }
      ]
    },
    {
      "cell_type": "code",
      "source": [
        "data.info()"
      ],
      "metadata": {
        "colab": {
          "base_uri": "https://localhost:8080/"
        },
        "id": "h4Nm-XuxlM2-",
        "outputId": "5c601a80-6fd7-4f2e-a6ca-28928766ac39"
      },
      "execution_count": null,
      "outputs": [
        {
          "output_type": "stream",
          "name": "stdout",
          "text": [
            "<class 'pandas.core.frame.DataFrame'>\n",
            "RangeIndex: 943 entries, 0 to 942\n",
            "Data columns (total 4 columns):\n",
            " #   Column  Non-Null Count  Dtype  \n",
            "---  ------  --------------  -----  \n",
            " 0   c1      943 non-null    float64\n",
            " 1   c2      943 non-null    float64\n",
            " 2   c3      943 non-null    float64\n",
            " 3   target  943 non-null    int64  \n",
            "dtypes: float64(3), int64(1)\n",
            "memory usage: 29.6 KB\n"
          ]
        }
      ]
    },
    {
      "cell_type": "code",
      "source": [
        "data.shape"
      ],
      "metadata": {
        "colab": {
          "base_uri": "https://localhost:8080/"
        },
        "id": "L7m7QfPn60u9",
        "outputId": "8b001945-c44f-4ae5-ee08-bf45a88e4ebd"
      },
      "execution_count": null,
      "outputs": [
        {
          "output_type": "execute_result",
          "data": {
            "text/plain": [
              "(943, 4)"
            ]
          },
          "metadata": {},
          "execution_count": 32
        }
      ]
    },
    {
      "cell_type": "code",
      "source": [
        "data.head().T"
      ],
      "metadata": {
        "colab": {
          "base_uri": "https://localhost:8080/",
          "height": 174
        },
        "id": "dql8x2-B7i1l",
        "outputId": "70cd3ec5-a89a-45e9-c7cf-eafc31ae5edd"
      },
      "execution_count": null,
      "outputs": [
        {
          "output_type": "execute_result",
          "data": {
            "text/html": [
              "\n",
              "  <div id=\"df-6db5bcde-eb8a-4db9-af22-3e6c27c1e86c\">\n",
              "    <div class=\"colab-df-container\">\n",
              "      <div>\n",
              "<style scoped>\n",
              "    .dataframe tbody tr th:only-of-type {\n",
              "        vertical-align: middle;\n",
              "    }\n",
              "\n",
              "    .dataframe tbody tr th {\n",
              "        vertical-align: top;\n",
              "    }\n",
              "\n",
              "    .dataframe thead th {\n",
              "        text-align: right;\n",
              "    }\n",
              "</style>\n",
              "<table border=\"1\" class=\"dataframe\">\n",
              "  <thead>\n",
              "    <tr style=\"text-align: right;\">\n",
              "      <th></th>\n",
              "      <th>0</th>\n",
              "      <th>1</th>\n",
              "      <th>2</th>\n",
              "      <th>3</th>\n",
              "      <th>4</th>\n",
              "    </tr>\n",
              "  </thead>\n",
              "  <tbody>\n",
              "    <tr>\n",
              "      <th>c1</th>\n",
              "      <td>0.102303</td>\n",
              "      <td>-0.131546</td>\n",
              "      <td>0.007224</td>\n",
              "      <td>0.112290</td>\n",
              "      <td>-0.178326</td>\n",
              "    </tr>\n",
              "    <tr>\n",
              "      <th>c2</th>\n",
              "      <td>0.116327</td>\n",
              "      <td>-0.038680</td>\n",
              "      <td>-0.067146</td>\n",
              "      <td>0.040584</td>\n",
              "      <td>-0.023989</td>\n",
              "    </tr>\n",
              "    <tr>\n",
              "      <th>c3</th>\n",
              "      <td>0.154913</td>\n",
              "      <td>0.137115</td>\n",
              "      <td>0.067533</td>\n",
              "      <td>0.119399</td>\n",
              "      <td>0.179932</td>\n",
              "    </tr>\n",
              "    <tr>\n",
              "      <th>target</th>\n",
              "      <td>0.000000</td>\n",
              "      <td>0.000000</td>\n",
              "      <td>0.000000</td>\n",
              "      <td>0.000000</td>\n",
              "      <td>0.000000</td>\n",
              "    </tr>\n",
              "  </tbody>\n",
              "</table>\n",
              "</div>\n",
              "      <button class=\"colab-df-convert\" onclick=\"convertToInteractive('df-6db5bcde-eb8a-4db9-af22-3e6c27c1e86c')\"\n",
              "              title=\"Convert this dataframe to an interactive table.\"\n",
              "              style=\"display:none;\">\n",
              "        \n",
              "  <svg xmlns=\"http://www.w3.org/2000/svg\" height=\"24px\"viewBox=\"0 0 24 24\"\n",
              "       width=\"24px\">\n",
              "    <path d=\"M0 0h24v24H0V0z\" fill=\"none\"/>\n",
              "    <path d=\"M18.56 5.44l.94 2.06.94-2.06 2.06-.94-2.06-.94-.94-2.06-.94 2.06-2.06.94zm-11 1L8.5 8.5l.94-2.06 2.06-.94-2.06-.94L8.5 2.5l-.94 2.06-2.06.94zm10 10l.94 2.06.94-2.06 2.06-.94-2.06-.94-.94-2.06-.94 2.06-2.06.94z\"/><path d=\"M17.41 7.96l-1.37-1.37c-.4-.4-.92-.59-1.43-.59-.52 0-1.04.2-1.43.59L10.3 9.45l-7.72 7.72c-.78.78-.78 2.05 0 2.83L4 21.41c.39.39.9.59 1.41.59.51 0 1.02-.2 1.41-.59l7.78-7.78 2.81-2.81c.8-.78.8-2.07 0-2.86zM5.41 20L4 18.59l7.72-7.72 1.47 1.35L5.41 20z\"/>\n",
              "  </svg>\n",
              "      </button>\n",
              "      \n",
              "  <style>\n",
              "    .colab-df-container {\n",
              "      display:flex;\n",
              "      flex-wrap:wrap;\n",
              "      gap: 12px;\n",
              "    }\n",
              "\n",
              "    .colab-df-convert {\n",
              "      background-color: #E8F0FE;\n",
              "      border: none;\n",
              "      border-radius: 50%;\n",
              "      cursor: pointer;\n",
              "      display: none;\n",
              "      fill: #1967D2;\n",
              "      height: 32px;\n",
              "      padding: 0 0 0 0;\n",
              "      width: 32px;\n",
              "    }\n",
              "\n",
              "    .colab-df-convert:hover {\n",
              "      background-color: #E2EBFA;\n",
              "      box-shadow: 0px 1px 2px rgba(60, 64, 67, 0.3), 0px 1px 3px 1px rgba(60, 64, 67, 0.15);\n",
              "      fill: #174EA6;\n",
              "    }\n",
              "\n",
              "    [theme=dark] .colab-df-convert {\n",
              "      background-color: #3B4455;\n",
              "      fill: #D2E3FC;\n",
              "    }\n",
              "\n",
              "    [theme=dark] .colab-df-convert:hover {\n",
              "      background-color: #434B5C;\n",
              "      box-shadow: 0px 1px 3px 1px rgba(0, 0, 0, 0.15);\n",
              "      filter: drop-shadow(0px 1px 2px rgba(0, 0, 0, 0.3));\n",
              "      fill: #FFFFFF;\n",
              "    }\n",
              "  </style>\n",
              "\n",
              "      <script>\n",
              "        const buttonEl =\n",
              "          document.querySelector('#df-6db5bcde-eb8a-4db9-af22-3e6c27c1e86c button.colab-df-convert');\n",
              "        buttonEl.style.display =\n",
              "          google.colab.kernel.accessAllowed ? 'block' : 'none';\n",
              "\n",
              "        async function convertToInteractive(key) {\n",
              "          const element = document.querySelector('#df-6db5bcde-eb8a-4db9-af22-3e6c27c1e86c');\n",
              "          const dataTable =\n",
              "            await google.colab.kernel.invokeFunction('convertToInteractive',\n",
              "                                                     [key], {});\n",
              "          if (!dataTable) return;\n",
              "\n",
              "          const docLinkHtml = 'Like what you see? Visit the ' +\n",
              "            '<a target=\"_blank\" href=https://colab.research.google.com/notebooks/data_table.ipynb>data table notebook</a>'\n",
              "            + ' to learn more about interactive tables.';\n",
              "          element.innerHTML = '';\n",
              "          dataTable['output_type'] = 'display_data';\n",
              "          await google.colab.output.renderOutput(dataTable, element);\n",
              "          const docLink = document.createElement('div');\n",
              "          docLink.innerHTML = docLinkHtml;\n",
              "          element.appendChild(docLink);\n",
              "        }\n",
              "      </script>\n",
              "    </div>\n",
              "  </div>\n",
              "  "
            ],
            "text/plain": [
              "               0         1         2         3         4\n",
              "c1      0.102303 -0.131546  0.007224  0.112290 -0.178326\n",
              "c2      0.116327 -0.038680 -0.067146  0.040584 -0.023989\n",
              "c3      0.154913  0.137115  0.067533  0.119399  0.179932\n",
              "target  0.000000  0.000000  0.000000  0.000000  0.000000"
            ]
          },
          "metadata": {},
          "execution_count": 29
        }
      ]
    },
    {
      "cell_type": "code",
      "source": [
        "#Number of distinct categories or classes\n",
        "data.iloc[:,3].unique()"
      ],
      "metadata": {
        "colab": {
          "base_uri": "https://localhost:8080/"
        },
        "id": "kHVygjIohqka",
        "outputId": "2599d7d0-3d38-441b-9bf6-4ef39aae187d"
      },
      "execution_count": null,
      "outputs": [
        {
          "output_type": "execute_result",
          "data": {
            "text/plain": [
              "array([0, 1])"
            ]
          },
          "metadata": {},
          "execution_count": 34
        }
      ]
    },
    {
      "cell_type": "code",
      "source": [
        "#checking the percentage of each class in the dataset\n",
        "(data.iloc[:,3].value_counts(normalize=True))#/(data.iloc[:,3].count())"
      ],
      "metadata": {
        "colab": {
          "base_uri": "https://localhost:8080/"
        },
        "id": "LQnp06BOllOv",
        "outputId": "ccf5276c-1408-48d3-901d-2d43cc6448be"
      },
      "execution_count": null,
      "outputs": [
        {
          "output_type": "execute_result",
          "data": {
            "text/plain": [
              "1    0.603393\n",
              "0    0.396607\n",
              "Name: target, dtype: float64"
            ]
          },
          "metadata": {},
          "execution_count": 35
        }
      ]
    },
    {
      "cell_type": "markdown",
      "source": [
        "This shows a complete imbalance of classes. There are 60.33% '1' instances and only 39.66% '0' instances. This means that we are aiming to predict anomalous events."
      ],
      "metadata": {
        "id": "bsgQng4slsit"
      }
    },
    {
      "cell_type": "code",
      "source": [
        "#PCA is performed for visualization only\n",
        "\n",
        "pca= PCA(n_components=2)\n",
        "viz_2d= pd.DataFrame(pca.fit_transform(data.iloc[:,0:3]))\n",
        "viz_2d= pd.concat([viz_2d, data.iloc[:,3]], axis=1)\n",
        "viz_2d.columns= ['x', 'y', 'Class']\n",
        "sns.lmplot(x='x', y='y', data=viz_2d, fit_reg=False, hue='Class')"
      ],
      "metadata": {
        "colab": {
          "base_uri": "https://localhost:8080/",
          "height": 386
        },
        "id": "om7-rdhPlta9",
        "outputId": "f0562106-1828-4f32-bca5-c7f30582e95f"
      },
      "execution_count": null,
      "outputs": [
        {
          "output_type": "execute_result",
          "data": {
            "text/plain": [
              "<seaborn.axisgrid.FacetGrid at 0x7fae4ab1e790>"
            ]
          },
          "metadata": {},
          "execution_count": 36
        },
        {
          "output_type": "display_data",
          "data": {
            "image/png": "[encoded data removed]",
            "text/plain": [
              "<Figure size 402.375x360 with 1 Axes>"
            ]
          },
          "metadata": {
            "needs_background": "light"
          }
        }
      ]
    },
    {
      "cell_type": "markdown",
      "source": [
        "As you can see, PCA gives a better visualization of the imbalance in the datasets."
      ],
      "metadata": {
        "id": "pSN0aDZTlyRA"
      }
    },
    {
      "cell_type": "markdown",
      "source": [
        "### Fetaure transformation"
      ],
      "metadata": {
        "id": "731YNJ82l2FU"
      }
    },
    {
      "cell_type": "code",
      "source": [
        "df_transformed=pd.DataFrame(pca.fit_transform(data.iloc[:,0:3]))\n",
        "df_transformed.columns = ['pca1','pca2']"
      ],
      "metadata": {
        "id": "nV7vs1kIl28h"
      },
      "execution_count": null,
      "outputs": []
    },
    {
      "cell_type": "code",
      "source": [
        "X_data =df_transformed# data.iloc[:,0:3]\n",
        "y_data = data.iloc[:, -1]"
      ],
      "metadata": {
        "id": "gcxkBfbKl5c1"
      },
      "execution_count": null,
      "outputs": []
    },
    {
      "cell_type": "code",
      "source": [
        "#printing the shape of the data \n",
        "print(X_data.shape)\n",
        "print(y_data.shape)"
      ],
      "metadata": {
        "colab": {
          "base_uri": "https://localhost:8080/"
        },
        "id": "oPEq8Qxsl6_y",
        "outputId": "aa610c94-627c-49ee-9ed1-60678b3a4303"
      },
      "execution_count": null,
      "outputs": [
        {
          "output_type": "stream",
          "name": "stdout",
          "text": [
            "(943, 2)\n",
            "(943,)\n"
          ]
        }
      ]
    },
    {
      "cell_type": "code",
      "source": [
        "X_data.describe()"
      ],
      "metadata": {
        "colab": {
          "base_uri": "https://localhost:8080/",
          "height": 300
        },
        "id": "2t3GGUypl9ET",
        "outputId": "5d38de22-9d5e-4bb9-fd50-ea355f2e269c"
      },
      "execution_count": null,
      "outputs": [
        {
          "output_type": "execute_result",
          "data": {
            "text/html": [
              "\n",
              "  <div id=\"df-24b4b9a4-ef4a-41d9-91a8-c70a133f0148\">\n",
              "    <div class=\"colab-df-container\">\n",
              "      <div>\n",
              "<style scoped>\n",
              "    .dataframe tbody tr th:only-of-type {\n",
              "        vertical-align: middle;\n",
              "    }\n",
              "\n",
              "    .dataframe tbody tr th {\n",
              "        vertical-align: top;\n",
              "    }\n",
              "\n",
              "    .dataframe thead th {\n",
              "        text-align: right;\n",
              "    }\n",
              "</style>\n",
              "<table border=\"1\" class=\"dataframe\">\n",
              "  <thead>\n",
              "    <tr style=\"text-align: right;\">\n",
              "      <th></th>\n",
              "      <th>pca1</th>\n",
              "      <th>pca2</th>\n",
              "    </tr>\n",
              "  </thead>\n",
              "  <tbody>\n",
              "    <tr>\n",
              "      <th>count</th>\n",
              "      <td>9.430000e+02</td>\n",
              "      <td>9.430000e+02</td>\n",
              "    </tr>\n",
              "    <tr>\n",
              "      <th>mean</th>\n",
              "      <td>-1.306837e-17</td>\n",
              "      <td>-1.895503e-17</td>\n",
              "    </tr>\n",
              "    <tr>\n",
              "      <th>std</th>\n",
              "      <td>5.645451e-01</td>\n",
              "      <td>5.412421e-01</td>\n",
              "    </tr>\n",
              "    <tr>\n",
              "      <th>min</th>\n",
              "      <td>-1.002615e+00</td>\n",
              "      <td>-1.003604e+00</td>\n",
              "    </tr>\n",
              "    <tr>\n",
              "      <th>25%</th>\n",
              "      <td>-4.936914e-01</td>\n",
              "      <td>-4.581877e-01</td>\n",
              "    </tr>\n",
              "    <tr>\n",
              "      <th>50%</th>\n",
              "      <td>-3.613059e-03</td>\n",
              "      <td>-2.077153e-02</td>\n",
              "    </tr>\n",
              "    <tr>\n",
              "      <th>75%</th>\n",
              "      <td>4.857837e-01</td>\n",
              "      <td>4.473309e-01</td>\n",
              "    </tr>\n",
              "    <tr>\n",
              "      <th>max</th>\n",
              "      <td>1.023938e+00</td>\n",
              "      <td>1.028275e+00</td>\n",
              "    </tr>\n",
              "  </tbody>\n",
              "</table>\n",
              "</div>\n",
              "      <button class=\"colab-df-convert\" onclick=\"convertToInteractive('df-24b4b9a4-ef4a-41d9-91a8-c70a133f0148')\"\n",
              "              title=\"Convert this dataframe to an interactive table.\"\n",
              "              style=\"display:none;\">\n",
              "        \n",
              "  <svg xmlns=\"http://www.w3.org/2000/svg\" height=\"24px\"viewBox=\"0 0 24 24\"\n",
              "       width=\"24px\">\n",
              "    <path d=\"M0 0h24v24H0V0z\" fill=\"none\"/>\n",
              "    <path d=\"M18.56 5.44l.94 2.06.94-2.06 2.06-.94-2.06-.94-.94-2.06-.94 2.06-2.06.94zm-11 1L8.5 8.5l.94-2.06 2.06-.94-2.06-.94L8.5 2.5l-.94 2.06-2.06.94zm10 10l.94 2.06.94-2.06 2.06-.94-2.06-.94-.94-2.06-.94 2.06-2.06.94z\"/><path d=\"M17.41 7.96l-1.37-1.37c-.4-.4-.92-.59-1.43-.59-.52 0-1.04.2-1.43.59L10.3 9.45l-7.72 7.72c-.78.78-.78 2.05 0 2.83L4 21.41c.39.39.9.59 1.41.59.51 0 1.02-.2 1.41-.59l7.78-7.78 2.81-2.81c.8-.78.8-2.07 0-2.86zM5.41 20L4 18.59l7.72-7.72 1.47 1.35L5.41 20z\"/>\n",
              "  </svg>\n",
              "      </button>\n",
              "      \n",
              "  <style>\n",
              "    .colab-df-container {\n",
              "      display:flex;\n",
              "      flex-wrap:wrap;\n",
              "      gap: 12px;\n",
              "    }\n",
              "\n",
              "    .colab-df-convert {\n",
              "      background-color: #E8F0FE;\n",
              "      border: none;\n",
              "      border-radius: 50%;\n",
              "      cursor: pointer;\n",
              "      display: none;\n",
              "      fill: #1967D2;\n",
              "      height: 32px;\n",
              "      padding: 0 0 0 0;\n",
              "      width: 32px;\n",
              "    }\n",
              "\n",
              "    .colab-df-convert:hover {\n",
              "      background-color: #E2EBFA;\n",
              "      box-shadow: 0px 1px 2px rgba(60, 64, 67, 0.3), 0px 1px 3px 1px rgba(60, 64, 67, 0.15);\n",
              "      fill: #174EA6;\n",
              "    }\n",
              "\n",
              "    [theme=dark] .colab-df-convert {\n",
              "      background-color: #3B4455;\n",
              "      fill: #D2E3FC;\n",
              "    }\n",
              "\n",
              "    [theme=dark] .colab-df-convert:hover {\n",
              "      background-color: #434B5C;\n",
              "      box-shadow: 0px 1px 3px 1px rgba(0, 0, 0, 0.15);\n",
              "      filter: drop-shadow(0px 1px 2px rgba(0, 0, 0, 0.3));\n",
              "      fill: #FFFFFF;\n",
              "    }\n",
              "  </style>\n",
              "\n",
              "      <script>\n",
              "        const buttonEl =\n",
              "          document.querySelector('#df-24b4b9a4-ef4a-41d9-91a8-c70a133f0148 button.colab-df-convert');\n",
              "        buttonEl.style.display =\n",
              "          google.colab.kernel.accessAllowed ? 'block' : 'none';\n",
              "\n",
              "        async function convertToInteractive(key) {\n",
              "          const element = document.querySelector('#df-24b4b9a4-ef4a-41d9-91a8-c70a133f0148');\n",
              "          const dataTable =\n",
              "            await google.colab.kernel.invokeFunction('convertToInteractive',\n",
              "                                                     [key], {});\n",
              "          if (!dataTable) return;\n",
              "\n",
              "          const docLinkHtml = 'Like what you see? Visit the ' +\n",
              "            '<a target=\"_blank\" href=https://colab.research.google.com/notebooks/data_table.ipynb>data table notebook</a>'\n",
              "            + ' to learn more about interactive tables.';\n",
              "          element.innerHTML = '';\n",
              "          dataTable['output_type'] = 'display_data';\n",
              "          await google.colab.output.renderOutput(dataTable, element);\n",
              "          const docLink = document.createElement('div');\n",
              "          docLink.innerHTML = docLinkHtml;\n",
              "          element.appendChild(docLink);\n",
              "        }\n",
              "      </script>\n",
              "    </div>\n",
              "  </div>\n",
              "  "
            ],
            "text/plain": [
              "               pca1          pca2\n",
              "count  9.430000e+02  9.430000e+02\n",
              "mean  -1.306837e-17 -1.895503e-17\n",
              "std    5.645451e-01  5.412421e-01\n",
              "min   -1.002615e+00 -1.003604e+00\n",
              "25%   -4.936914e-01 -4.581877e-01\n",
              "50%   -3.613059e-03 -2.077153e-02\n",
              "75%    4.857837e-01  4.473309e-01\n",
              "max    1.023938e+00  1.028275e+00"
            ]
          },
          "metadata": {},
          "execution_count": 40
        }
      ]
    },
    {
      "cell_type": "markdown",
      "source": [
        "Splitting the Data into train and test set"
      ],
      "metadata": {
        "id": "AdWevWPTmFXV"
      }
    },
    {
      "cell_type": "code",
      "source": [
        "X_train, X_test, y_train, y_test = train_test_split(X_data, y_data, test_size = 0.3, random_state = 7)"
      ],
      "metadata": {
        "id": "-14FhKBkl_dk"
      },
      "execution_count": null,
      "outputs": []
    },
    {
      "cell_type": "code",
      "source": [
        "print(X_train.shape)\n",
        "print(X_test.shape)\n",
        "print(y_train.shape)\n",
        "print(y_test.shape)"
      ],
      "metadata": {
        "colab": {
          "base_uri": "https://localhost:8080/"
        },
        "id": "8BjHqUIZmJBg",
        "outputId": "f8e60bec-8a7a-4408-fd8f-64a2b55ae055"
      },
      "execution_count": null,
      "outputs": [
        {
          "output_type": "stream",
          "name": "stdout",
          "text": [
            "(660, 2)\n",
            "(283, 2)\n",
            "(660,)\n",
            "(283,)\n"
          ]
        }
      ]
    },
    {
      "cell_type": "code",
      "source": [
        "def make_confusion_matrix(cf,\n",
        "                          group_names=None,\n",
        "                          categories='auto',\n",
        "                          count=True,\n",
        "                          percent=True,\n",
        "                          cbar=True,\n",
        "                          xyticks=True,\n",
        "                          xyplotlabels=True,\n",
        "                          sum_stats=True,\n",
        "                          figsize=None,\n",
        "                          cmap='Blues',\n",
        "                          title=None):\n",
        "    '''\n",
        "    This function will make a pretty plot of an sklearn Confusion Matrix cm using a Seaborn heatmap visualization.\n",
        "    Arguments\n",
        "    '''\n",
        "\n",
        "\n",
        "    # CODE TO GENERATE TEXT INSIDE EACH SQUARE\n",
        "    blanks = ['' for i in range(cf.size)]\n",
        "\n",
        "    if group_names and len(group_names)==cf.size:\n",
        "        group_labels = [\"{}\\n\".format(value) for value in group_names]\n",
        "    else:\n",
        "        group_labels = blanks\n",
        "\n",
        "    if count:\n",
        "        group_counts = [\"{0:0.0f}\\n\".format(value) for value in cf.flatten()]\n",
        "    else:\n",
        "        group_counts = blanks\n",
        "\n",
        "    if percent:\n",
        "        group_percentages = [\"{0:.2%}\".format(value) for value in cf.flatten()/np.sum(cf)]\n",
        "    else:\n",
        "        group_percentages = blanks\n",
        "\n",
        "    box_labels = [f\"{v1}{v2}{v3}\".strip() for v1, v2, v3 in zip(group_labels,group_counts,group_percentages)]\n",
        "    box_labels = np.asarray(box_labels).reshape(cf.shape[0],cf.shape[1])\n",
        "\n",
        "\n",
        "    # CODE TO GENERATE SUMMARY STATISTICS & TEXT FOR SUMMARY STATS\n",
        "    if sum_stats:\n",
        "        #Accuracy is sum of diagonal divided by total observations\n",
        "        accuracy  = np.trace(cf) / float(np.sum(cf))\n",
        "\n",
        "        #if it is a binary confusion matrix, show some more stats\n",
        "        if len(cf)==2:\n",
        "            #Metrics for Binary Confusion Matrices\n",
        "            precision = cf[1,1] / sum(cf[:,1])\n",
        "            recall    = cf[1,1] / sum(cf[1,:])\n",
        "            f1_score  = 2*precision*recall / (precision + recall)\n",
        "            stats_text = \"\\n\\nAccuracy={:0.3f}\\nPrecision={:0.3f}\\nRecall={:0.3f}\\nF1 Score={:0.3f}\".format(\n",
        "                accuracy,precision,recall,f1_score)\n",
        "        else:\n",
        "            stats_text = \"\\n\\nAccuracy={:0.3f}\".format(accuracy)\n",
        "    else:\n",
        "        stats_text = \"\"\n",
        "\n",
        "\n",
        "    # SET FIGURE PARAMETERS ACCORDING TO OTHER ARGUMENTS\n",
        "    if figsize==None:\n",
        "        #Get default figure size if not set\n",
        "        figsize = plt.rcParams.get('figure.figsize')\n",
        "\n",
        "    if xyticks==False:\n",
        "        #Do not show categories if xyticks is False\n",
        "        categories=False\n",
        "\n",
        "\n",
        "    # MAKE THE HEATMAP VISUALIZATION\n",
        "    plt.figure(figsize=figsize)\n",
        "    sns.heatmap(cf,annot=box_labels,fmt=\"\",cmap=cmap,cbar=cbar,xticklabels=categories,yticklabels=categories)\n",
        "\n",
        "    if xyplotlabels:\n",
        "        plt.ylabel('True label')\n",
        "        plt.xlabel('Predicted label' + stats_text)\n",
        "    else:\n",
        "        plt.xlabel(stats_text)\n",
        "    \n",
        "    if title:\n",
        "        plt.title(title)"
      ],
      "metadata": {
        "id": "YKRSpmYomKw9"
      },
      "execution_count": null,
      "outputs": []
    },
    {
      "cell_type": "markdown",
      "source": [
        "###Model Building"
      ],
      "metadata": {
        "id": "Fh5PtEkXmPBy"
      }
    },
    {
      "cell_type": "markdown",
      "source": [
        "Here two hidden layer with hidden node as \"4\" and learnign rate is 0.01"
      ],
      "metadata": {
        "id": "zlXUnSd6mVBW"
      }
    },
    {
      "cell_type": "code",
      "source": [
        "#initialize the model1\n",
        "model1 = Sequential()\n",
        "\n",
        "\n",
        "# This adds the input layer (by specifying input dimension) AND the first hidden layer (units)\n",
        "model1.add(Dense(units=4, input_dim = 2,activation='relu'))   \n",
        "# hidden layer\n",
        "model1.add(Dense(units=4,activation='relu'))\n",
        "#Adding Dropout to prevent overfitting \n",
        "model1.add(Dropout(0.5))\n",
        "#model1.add(Dense(24,activation='relu'))\n",
        "model1.add(Dense(4,activation='relu'))\n",
        "# Adding the output layer\n",
        "# Notice that we do not need to specify input dim. \n",
        "# we have an output of 1 node, which is the the desired dimensions of our output \n",
        "# We use the sigmoid because we want probability outcomes\n",
        "model1.add(Dense(1,activation='sigmoid')) \n",
        "\n",
        "opt = optimizers.Adam(learning_rate=0.01)\n",
        "# Compile the model1\n",
        "\n",
        "model1.compile(optimizer=opt,loss='binary_crossentropy',metrics=['accuracy'])\n",
        "\n",
        "model1.summary()"
      ],
      "metadata": {
        "colab": {
          "base_uri": "https://localhost:8080/"
        },
        "id": "XRGM98mkmQ6X",
        "outputId": "1e5828a1-8b7c-4c3b-aae6-2d790b472f75"
      },
      "execution_count": null,
      "outputs": [
        {
          "output_type": "stream",
          "name": "stdout",
          "text": [
            "Model: \"sequential\"\n",
            "_________________________________________________________________\n",
            " Layer (type)                Output Shape              Param #   \n",
            "=================================================================\n",
            " dense (Dense)               (None, 4)                 12        \n",
            "                                                                 \n",
            " dense_1 (Dense)             (None, 4)                 20        \n",
            "                                                                 \n",
            " dropout (Dropout)           (None, 4)                 0         \n",
            "                                                                 \n",
            " dense_2 (Dense)             (None, 4)                 20        \n",
            "                                                                 \n",
            " dense_3 (Dense)             (None, 1)                 5         \n",
            "                                                                 \n",
            "=================================================================\n",
            "Total params: 57\n",
            "Trainable params: 57\n",
            "Non-trainable params: 0\n",
            "_________________________________________________________________\n"
          ]
        }
      ]
    },
    {
      "cell_type": "code",
      "source": [
        "#fitting the model\n",
        "history=model1.fit(X_train,y_train,batch_size=15,epochs=50,validation_split=0.2)"
      ],
      "metadata": {
        "colab": {
          "base_uri": "https://localhost:8080/"
        },
        "id": "Vl6ZPSR5mYpQ",
        "outputId": "a25ad93f-9939-4610-9c5d-5abb12558c30"
      },
      "execution_count": null,
      "outputs": [
        {
          "output_type": "stream",
          "name": "stdout",
          "text": [
            "Epoch 1/50\n",
            "36/36 [==============================] - 2s 12ms/step - loss: 0.6888 - accuracy: 0.5417 - val_loss: 0.6737 - val_accuracy: 0.6136\n",
            "Epoch 2/50\n",
            "36/36 [==============================] - 0s 4ms/step - loss: 0.6814 - accuracy: 0.5777 - val_loss: 0.6683 - val_accuracy: 0.6136\n",
            "Epoch 3/50\n",
            "36/36 [==============================] - 0s 4ms/step - loss: 0.6772 - accuracy: 0.5777 - val_loss: 0.6664 - val_accuracy: 0.6136\n",
            "Epoch 4/50\n",
            "36/36 [==============================] - 0s 3ms/step - loss: 0.6782 - accuracy: 0.5777 - val_loss: 0.6630 - val_accuracy: 0.6136\n",
            "Epoch 5/50\n",
            "36/36 [==============================] - 0s 4ms/step - loss: 0.6779 - accuracy: 0.5777 - val_loss: 0.6625 - val_accuracy: 0.6136\n",
            "Epoch 6/50\n",
            "36/36 [==============================] - 0s 3ms/step - loss: 0.6688 - accuracy: 0.5890 - val_loss: 0.6590 - val_accuracy: 0.6136\n",
            "Epoch 7/50\n",
            "36/36 [==============================] - 0s 3ms/step - loss: 0.6718 - accuracy: 0.5985 - val_loss: 0.6563 - val_accuracy: 0.6136\n",
            "Epoch 8/50\n",
            "36/36 [==============================] - 0s 5ms/step - loss: 0.6719 - accuracy: 0.5758 - val_loss: 0.6617 - val_accuracy: 0.6136\n",
            "Epoch 9/50\n",
            "36/36 [==============================] - 0s 3ms/step - loss: 0.6632 - accuracy: 0.5909 - val_loss: 0.6540 - val_accuracy: 0.6136\n",
            "Epoch 10/50\n",
            "36/36 [==============================] - 0s 4ms/step - loss: 0.6577 - accuracy: 0.5966 - val_loss: 0.6534 - val_accuracy: 0.6136\n",
            "Epoch 11/50\n",
            "36/36 [==============================] - 0s 7ms/step - loss: 0.6596 - accuracy: 0.6004 - val_loss: 0.6585 - val_accuracy: 0.6136\n",
            "Epoch 12/50\n",
            "36/36 [==============================] - 0s 4ms/step - loss: 0.6550 - accuracy: 0.6004 - val_loss: 0.6578 - val_accuracy: 0.6136\n",
            "Epoch 13/50\n",
            "36/36 [==============================] - 0s 4ms/step - loss: 0.6508 - accuracy: 0.6004 - val_loss: 0.6427 - val_accuracy: 0.6364\n",
            "Epoch 14/50\n",
            "36/36 [==============================] - 0s 5ms/step - loss: 0.6464 - accuracy: 0.6117 - val_loss: 0.6462 - val_accuracy: 0.6136\n",
            "Epoch 15/50\n",
            "36/36 [==============================] - 0s 6ms/step - loss: 0.6525 - accuracy: 0.5947 - val_loss: 0.6621 - val_accuracy: 0.6136\n",
            "Epoch 16/50\n",
            "36/36 [==============================] - 0s 5ms/step - loss: 0.6444 - accuracy: 0.6174 - val_loss: 0.6640 - val_accuracy: 0.6136\n",
            "Epoch 17/50\n",
            "36/36 [==============================] - 0s 5ms/step - loss: 0.6582 - accuracy: 0.5909 - val_loss: 0.6455 - val_accuracy: 0.6212\n",
            "Epoch 18/50\n",
            "36/36 [==============================] - 0s 4ms/step - loss: 0.6465 - accuracy: 0.6004 - val_loss: 0.6499 - val_accuracy: 0.6212\n",
            "Epoch 19/50\n",
            "36/36 [==============================] - 0s 3ms/step - loss: 0.6476 - accuracy: 0.6023 - val_loss: 0.6541 - val_accuracy: 0.6136\n",
            "Epoch 20/50\n",
            "36/36 [==============================] - 0s 3ms/step - loss: 0.6326 - accuracy: 0.6174 - val_loss: 0.6531 - val_accuracy: 0.6212\n",
            "Epoch 21/50\n",
            "36/36 [==============================] - 0s 3ms/step - loss: 0.6299 - accuracy: 0.6080 - val_loss: 0.6604 - val_accuracy: 0.6136\n",
            "Epoch 22/50\n",
            "36/36 [==============================] - 0s 4ms/step - loss: 0.6547 - accuracy: 0.5947 - val_loss: 0.6654 - val_accuracy: 0.6136\n",
            "Epoch 23/50\n",
            "36/36 [==============================] - 0s 5ms/step - loss: 0.6322 - accuracy: 0.6193 - val_loss: 0.6558 - val_accuracy: 0.6136\n",
            "Epoch 24/50\n",
            "36/36 [==============================] - 0s 3ms/step - loss: 0.6485 - accuracy: 0.5795 - val_loss: 0.6757 - val_accuracy: 0.6136\n",
            "Epoch 25/50\n",
            "36/36 [==============================] - 0s 3ms/step - loss: 0.6476 - accuracy: 0.6061 - val_loss: 0.6812 - val_accuracy: 0.6136\n",
            "Epoch 26/50\n",
            "36/36 [==============================] - 0s 3ms/step - loss: 0.6439 - accuracy: 0.6042 - val_loss: 0.6816 - val_accuracy: 0.6136\n",
            "Epoch 27/50\n",
            "36/36 [==============================] - 0s 3ms/step - loss: 0.6315 - accuracy: 0.6174 - val_loss: 0.6794 - val_accuracy: 0.6136\n",
            "Epoch 28/50\n",
            "36/36 [==============================] - 0s 3ms/step - loss: 0.6148 - accuracy: 0.6174 - val_loss: 0.6857 - val_accuracy: 0.6136\n",
            "Epoch 29/50\n",
            "36/36 [==============================] - 0s 3ms/step - loss: 0.6290 - accuracy: 0.6136 - val_loss: 0.6832 - val_accuracy: 0.6136\n",
            "Epoch 30/50\n",
            "36/36 [==============================] - 0s 2ms/step - loss: 0.6323 - accuracy: 0.5985 - val_loss: 0.6929 - val_accuracy: 0.6136\n",
            "Epoch 31/50\n",
            "36/36 [==============================] - 0s 2ms/step - loss: 0.6331 - accuracy: 0.6042 - val_loss: 0.6928 - val_accuracy: 0.6136\n",
            "Epoch 32/50\n",
            "36/36 [==============================] - 0s 2ms/step - loss: 0.6279 - accuracy: 0.6193 - val_loss: 0.6989 - val_accuracy: 0.6136\n",
            "Epoch 33/50\n",
            "36/36 [==============================] - 0s 2ms/step - loss: 0.6400 - accuracy: 0.5947 - val_loss: 0.6649 - val_accuracy: 0.6136\n",
            "Epoch 34/50\n",
            "36/36 [==============================] - 0s 2ms/step - loss: 0.6374 - accuracy: 0.6004 - val_loss: 0.6947 - val_accuracy: 0.6136\n",
            "Epoch 35/50\n",
            "36/36 [==============================] - 0s 2ms/step - loss: 0.6282 - accuracy: 0.6136 - val_loss: 0.6927 - val_accuracy: 0.6136\n",
            "Epoch 36/50\n",
            "36/36 [==============================] - 0s 2ms/step - loss: 0.6361 - accuracy: 0.5966 - val_loss: 0.6934 - val_accuracy: 0.6136\n",
            "Epoch 37/50\n",
            "36/36 [==============================] - 0s 2ms/step - loss: 0.6146 - accuracy: 0.6250 - val_loss: 0.6889 - val_accuracy: 0.6136\n",
            "Epoch 38/50\n",
            "36/36 [==============================] - 0s 2ms/step - loss: 0.6230 - accuracy: 0.6174 - val_loss: 0.6929 - val_accuracy: 0.6136\n",
            "Epoch 39/50\n",
            "36/36 [==============================] - 0s 3ms/step - loss: 0.6098 - accuracy: 0.6193 - val_loss: 0.6925 - val_accuracy: 0.6136\n",
            "Epoch 40/50\n",
            "36/36 [==============================] - 0s 2ms/step - loss: 0.6169 - accuracy: 0.6136 - val_loss: 0.7176 - val_accuracy: 0.6136\n",
            "Epoch 41/50\n",
            "36/36 [==============================] - 0s 2ms/step - loss: 0.6259 - accuracy: 0.6117 - val_loss: 0.7094 - val_accuracy: 0.6136\n",
            "Epoch 42/50\n",
            "36/36 [==============================] - 0s 2ms/step - loss: 0.6257 - accuracy: 0.6080 - val_loss: 0.7125 - val_accuracy: 0.6136\n",
            "Epoch 43/50\n",
            "36/36 [==============================] - 0s 2ms/step - loss: 0.6302 - accuracy: 0.6098 - val_loss: 0.6927 - val_accuracy: 0.6136\n",
            "Epoch 44/50\n",
            "36/36 [==============================] - 0s 2ms/step - loss: 0.6208 - accuracy: 0.6098 - val_loss: 0.7154 - val_accuracy: 0.6136\n",
            "Epoch 45/50\n",
            "36/36 [==============================] - 0s 2ms/step - loss: 0.6340 - accuracy: 0.6061 - val_loss: 0.7212 - val_accuracy: 0.6136\n",
            "Epoch 46/50\n",
            "36/36 [==============================] - 0s 2ms/step - loss: 0.6271 - accuracy: 0.6155 - val_loss: 0.6856 - val_accuracy: 0.6136\n",
            "Epoch 47/50\n",
            "36/36 [==============================] - 0s 2ms/step - loss: 0.6461 - accuracy: 0.5852 - val_loss: 0.7281 - val_accuracy: 0.6136\n",
            "Epoch 48/50\n",
            "36/36 [==============================] - 0s 2ms/step - loss: 0.6121 - accuracy: 0.6212 - val_loss: 0.7187 - val_accuracy: 0.6136\n",
            "Epoch 49/50\n",
            "36/36 [==============================] - 0s 2ms/step - loss: 0.6152 - accuracy: 0.6212 - val_loss: 0.7327 - val_accuracy: 0.6136\n",
            "Epoch 50/50\n",
            "36/36 [==============================] - 0s 3ms/step - loss: 0.6059 - accuracy: 0.6250 - val_loss: 0.6972 - val_accuracy: 0.6136\n"
          ]
        }
      ]
    },
    {
      "cell_type": "code",
      "source": [
        "# Capturing learning history per epoch\n",
        "hist  = pd.DataFrame(history.history)\n",
        "hist['epoch'] = history.epoch\n",
        "\n",
        "# Plotting accuracy at different epochs\n",
        "plt.plot(hist['loss'])\n",
        "plt.plot(hist['val_loss'])\n",
        "plt.legend((\"train\" , \"valid\") , loc =0)"
      ],
      "metadata": {
        "colab": {
          "base_uri": "https://localhost:8080/",
          "height": 282
        },
        "id": "HETwN4yHmbhn",
        "outputId": "a6275f3d-529c-427f-e001-5c6de5a439d5"
      },
      "execution_count": null,
      "outputs": [
        {
          "output_type": "execute_result",
          "data": {
            "text/plain": [
              "<matplotlib.legend.Legend at 0x7fae32b61210>"
            ]
          },
          "metadata": {},
          "execution_count": 46
        },
        {
          "output_type": "display_data",
          "data": {
            "image/png": "[encoded data removed]",
            "text/plain": [
              "<Figure size 432x288 with 1 Axes>"
            ]
          },
          "metadata": {
            "needs_background": "light"
          }
        }
      ]
    },
    {
      "cell_type": "markdown",
      "source": [
        "### Evaluation"
      ],
      "metadata": {
        "id": "3rNVI8RPmfh1"
      }
    },
    {
      "cell_type": "code",
      "source": [
        "score = model1.evaluate(X_test, y_test)"
      ],
      "metadata": {
        "colab": {
          "base_uri": "https://localhost:8080/"
        },
        "id": "35nOI_AJmcWG",
        "outputId": "fa3ac30d-aae9-4c51-f253-770da43f9824"
      },
      "execution_count": null,
      "outputs": [
        {
          "output_type": "stream",
          "name": "stdout",
          "text": [
            "9/9 [==============================] - 0s 3ms/step - loss: 0.6712 - accuracy: 0.6466\n"
          ]
        }
      ]
    },
    {
      "cell_type": "code",
      "source": [
        "print(score)"
      ],
      "metadata": {
        "colab": {
          "base_uri": "https://localhost:8080/"
        },
        "id": "Q4moe_4zmkTV",
        "outputId": "8e9c8e1b-54c0-4bb7-8f89-555959b1bec3"
      },
      "execution_count": null,
      "outputs": [
        {
          "output_type": "stream",
          "name": "stdout",
          "text": [
            "[0.67124342918396, 0.6466431021690369]\n"
          ]
        }
      ]
    },
    {
      "cell_type": "markdown",
      "source": [
        "### Let's Print confusion matrix"
      ],
      "metadata": {
        "id": "A_j8nO1qmnV4"
      }
    },
    {
      "cell_type": "code",
      "source": [
        "## Confusion Matrix on unsee test set\n",
        "import seaborn as sn\n",
        "y_pred1 = model1.predict(X_test)\n",
        "for i in range(len(y_test)):\n",
        "    if y_pred1[i]>0.5:\n",
        "        y_pred1[i]=1 \n",
        "    else:\n",
        "        y_pred1[i]=0\n",
        "\n",
        "\n",
        "\n",
        "cm2=confusion_matrix(y_test, y_pred1)\n",
        "labels = ['True Negative','False Positive','False Negative','True Positive']\n",
        "categories = [ 'Not_Fraud','Fraud']\n",
        "make_confusion_matrix(cm2, \n",
        "                      group_names=labels,\n",
        "                      categories=categories, \n",
        "                      cmap='Blues')"
      ],
      "metadata": {
        "colab": {
          "base_uri": "https://localhost:8080/",
          "height": 338
        },
        "id": "mY-UhoUGmlEj",
        "outputId": "f0bb40b7-25e6-45ce-cc16-a994b2b1a2ce"
      },
      "execution_count": null,
      "outputs": [
        {
          "output_type": "display_data",
          "data": {
            "image/png": "[encoded data removed]",
            "text/plain": [
              "<Figure size 432x288 with 2 Axes>"
            ]
          },
          "metadata": {
            "needs_background": "light"
          }
        }
      ]
    },
    {
      "cell_type": "markdown",
      "source": [
        "### Model Tuning"
      ],
      "metadata": {
        "id": "P0PAyD51mrhI"
      }
    },
    {
      "cell_type": "markdown",
      "source": [
        "Here two hidden layer with hidden node as \"8\" and learnign rate is 0.01"
      ],
      "metadata": {
        "id": "scmbvN25muaw"
      }
    },
    {
      "cell_type": "code",
      "source": [
        "#initialize the model\n",
        "model2 = Sequential()\n",
        "\n",
        "\n",
        "# This adds the input layer (by specifying input dimension) AND the first hidden layer (units)\n",
        "model2.add(Dense(units=8, input_dim = 2,activation='relu'))   \n",
        "# hidden layer\n",
        "model2.add(Dense(units=8,activation='relu'))\n",
        "#Adding Dropout to prevent overfitting \n",
        "model2.add(Dropout(0.5))\n",
        "#model.add(Dense(24,activation='relu'))\n",
        "model2.add(Dense(8,activation='relu'))\n",
        "# Adding the output layer\n",
        "# Notice that we do not need to specify input dim. \n",
        "# we have an output of 1 node, which is the the desired dimensions of our output\n",
        "# We use the sigmoid because we want probability outcomes\n",
        "model2.add(Dense(1,activation='sigmoid')) \n",
        "\n",
        "# Compile the model\n",
        "opt = optimizers.Adam(learning_rate=0.01)\n",
        "# Compile the model1\n",
        "\n",
        "model2.compile(optimizer=opt,loss='binary_crossentropy',metrics=['accuracy'])\n",
        "model2.summary()"
      ],
      "metadata": {
        "colab": {
          "base_uri": "https://localhost:8080/"
        },
        "id": "VYFm5nTwm4Lt",
        "outputId": "672634cb-600b-4baa-c46c-42ed95f2d1e7"
      },
      "execution_count": null,
      "outputs": [
        {
          "output_type": "stream",
          "name": "stdout",
          "text": [
            "Model: \"sequential_1\"\n",
            "_________________________________________________________________\n",
            " Layer (type)                Output Shape              Param #   \n",
            "=================================================================\n",
            " dense_4 (Dense)             (None, 8)                 24        \n",
            "                                                                 \n",
            " dense_5 (Dense)             (None, 8)                 72        \n",
            "                                                                 \n",
            " dropout_1 (Dropout)         (None, 8)                 0         \n",
            "                                                                 \n",
            " dense_6 (Dense)             (None, 8)                 72        \n",
            "                                                                 \n",
            " dense_7 (Dense)             (None, 1)                 9         \n",
            "                                                                 \n",
            "=================================================================\n",
            "Total params: 177\n",
            "Trainable params: 177\n",
            "Non-trainable params: 0\n",
            "_________________________________________________________________\n"
          ]
        }
      ]
    },
    {
      "cell_type": "code",
      "source": [
        "#fitting the model\n",
        "history=model2.fit(X_train,y_train,batch_size=15,epochs=50,validation_split=0.2)"
      ],
      "metadata": {
        "colab": {
          "base_uri": "https://localhost:8080/"
        },
        "id": "Eh8TGx7gm9E9",
        "outputId": "6873006e-f08b-4b33-c415-f0cda6398e9a"
      },
      "execution_count": null,
      "outputs": [
        {
          "output_type": "stream",
          "name": "stdout",
          "text": [
            "Epoch 1/50\n",
            "36/36 [==============================] - 1s 9ms/step - loss: 0.6887 - accuracy: 0.5436 - val_loss: 0.6651 - val_accuracy: 0.6136\n",
            "Epoch 2/50\n",
            "36/36 [==============================] - 0s 3ms/step - loss: 0.6807 - accuracy: 0.5777 - val_loss: 0.6655 - val_accuracy: 0.6136\n",
            "Epoch 3/50\n",
            "36/36 [==============================] - 0s 3ms/step - loss: 0.6734 - accuracy: 0.5777 - val_loss: 0.6569 - val_accuracy: 0.6136\n",
            "Epoch 4/50\n",
            "36/36 [==============================] - 0s 3ms/step - loss: 0.6707 - accuracy: 0.5777 - val_loss: 0.6505 - val_accuracy: 0.6136\n",
            "Epoch 5/50\n",
            "36/36 [==============================] - 0s 4ms/step - loss: 0.6682 - accuracy: 0.5777 - val_loss: 0.6517 - val_accuracy: 0.6136\n",
            "Epoch 6/50\n",
            "36/36 [==============================] - 0s 4ms/step - loss: 0.6758 - accuracy: 0.5777 - val_loss: 0.6546 - val_accuracy: 0.6136\n",
            "Epoch 7/50\n",
            "36/36 [==============================] - 0s 4ms/step - loss: 0.6634 - accuracy: 0.5777 - val_loss: 0.6607 - val_accuracy: 0.6136\n",
            "Epoch 8/50\n",
            "36/36 [==============================] - 0s 4ms/step - loss: 0.6561 - accuracy: 0.5777 - val_loss: 0.6452 - val_accuracy: 0.6136\n",
            "Epoch 9/50\n",
            "36/36 [==============================] - 0s 4ms/step - loss: 0.6656 - accuracy: 0.5871 - val_loss: 0.6506 - val_accuracy: 0.6061\n",
            "Epoch 10/50\n",
            "36/36 [==============================] - 0s 3ms/step - loss: 0.6595 - accuracy: 0.6004 - val_loss: 0.6445 - val_accuracy: 0.6439\n",
            "Epoch 11/50\n",
            "36/36 [==============================] - 0s 3ms/step - loss: 0.6599 - accuracy: 0.5985 - val_loss: 0.6502 - val_accuracy: 0.6667\n",
            "Epoch 12/50\n",
            "36/36 [==============================] - 0s 3ms/step - loss: 0.6514 - accuracy: 0.6326 - val_loss: 0.6483 - val_accuracy: 0.6364\n",
            "Epoch 13/50\n",
            "36/36 [==============================] - 0s 3ms/step - loss: 0.6523 - accuracy: 0.6364 - val_loss: 0.6384 - val_accuracy: 0.6970\n",
            "Epoch 14/50\n",
            "36/36 [==============================] - 0s 4ms/step - loss: 0.6468 - accuracy: 0.6383 - val_loss: 0.6496 - val_accuracy: 0.7424\n",
            "Epoch 15/50\n",
            "36/36 [==============================] - 0s 4ms/step - loss: 0.6298 - accuracy: 0.6818 - val_loss: 0.6266 - val_accuracy: 0.7197\n",
            "Epoch 16/50\n",
            "36/36 [==============================] - 0s 3ms/step - loss: 0.6294 - accuracy: 0.7102 - val_loss: 0.6261 - val_accuracy: 0.7500\n",
            "Epoch 17/50\n",
            "36/36 [==============================] - 0s 3ms/step - loss: 0.6182 - accuracy: 0.7045 - val_loss: 0.6333 - val_accuracy: 0.6970\n",
            "Epoch 18/50\n",
            "36/36 [==============================] - 0s 3ms/step - loss: 0.6027 - accuracy: 0.7083 - val_loss: 0.6104 - val_accuracy: 0.7652\n",
            "Epoch 19/50\n",
            "36/36 [==============================] - 0s 4ms/step - loss: 0.6084 - accuracy: 0.7102 - val_loss: 0.6034 - val_accuracy: 0.7576\n",
            "Epoch 20/50\n",
            "36/36 [==============================] - 0s 8ms/step - loss: 0.5930 - accuracy: 0.7121 - val_loss: 0.6157 - val_accuracy: 0.6818\n",
            "Epoch 21/50\n",
            "36/36 [==============================] - 0s 7ms/step - loss: 0.5846 - accuracy: 0.7367 - val_loss: 0.6018 - val_accuracy: 0.7121\n",
            "Epoch 22/50\n",
            "36/36 [==============================] - 0s 7ms/step - loss: 0.5763 - accuracy: 0.7330 - val_loss: 0.5670 - val_accuracy: 0.7576\n",
            "Epoch 23/50\n",
            "36/36 [==============================] - 0s 7ms/step - loss: 0.5818 - accuracy: 0.7121 - val_loss: 0.6060 - val_accuracy: 0.6894\n",
            "Epoch 24/50\n",
            "36/36 [==============================] - 0s 7ms/step - loss: 0.5688 - accuracy: 0.7462 - val_loss: 0.5845 - val_accuracy: 0.7348\n",
            "Epoch 25/50\n",
            "36/36 [==============================] - 0s 3ms/step - loss: 0.5649 - accuracy: 0.7348 - val_loss: 0.5819 - val_accuracy: 0.7652\n",
            "Epoch 26/50\n",
            "36/36 [==============================] - 0s 2ms/step - loss: 0.5283 - accuracy: 0.7557 - val_loss: 0.5773 - val_accuracy: 0.7197\n",
            "Epoch 27/50\n",
            "36/36 [==============================] - 0s 2ms/step - loss: 0.5746 - accuracy: 0.7348 - val_loss: 0.5867 - val_accuracy: 0.7197\n",
            "Epoch 28/50\n",
            "36/36 [==============================] - 0s 3ms/step - loss: 0.5472 - accuracy: 0.7311 - val_loss: 0.5720 - val_accuracy: 0.7348\n",
            "Epoch 29/50\n",
            "36/36 [==============================] - 0s 2ms/step - loss: 0.5411 - accuracy: 0.7443 - val_loss: 0.5584 - val_accuracy: 0.7652\n",
            "Epoch 30/50\n",
            "36/36 [==============================] - 0s 2ms/step - loss: 0.5144 - accuracy: 0.7576 - val_loss: 0.5824 - val_accuracy: 0.7348\n",
            "Epoch 31/50\n",
            "36/36 [==============================] - 0s 2ms/step - loss: 0.5420 - accuracy: 0.7311 - val_loss: 0.5699 - val_accuracy: 0.7348\n",
            "Epoch 32/50\n",
            "36/36 [==============================] - 0s 2ms/step - loss: 0.5279 - accuracy: 0.7557 - val_loss: 0.6035 - val_accuracy: 0.6439\n",
            "Epoch 33/50\n",
            "36/36 [==============================] - 0s 2ms/step - loss: 0.5314 - accuracy: 0.7481 - val_loss: 0.5443 - val_accuracy: 0.7273\n",
            "Epoch 34/50\n",
            "36/36 [==============================] - 0s 2ms/step - loss: 0.5595 - accuracy: 0.7405 - val_loss: 0.5884 - val_accuracy: 0.7121\n",
            "Epoch 35/50\n",
            "36/36 [==============================] - 0s 2ms/step - loss: 0.4964 - accuracy: 0.7689 - val_loss: 0.4884 - val_accuracy: 0.7955\n",
            "Epoch 36/50\n",
            "36/36 [==============================] - 0s 2ms/step - loss: 0.4879 - accuracy: 0.7822 - val_loss: 0.4996 - val_accuracy: 0.8030\n",
            "Epoch 37/50\n",
            "36/36 [==============================] - 0s 2ms/step - loss: 0.5093 - accuracy: 0.7652 - val_loss: 0.5583 - val_accuracy: 0.7576\n",
            "Epoch 38/50\n",
            "36/36 [==============================] - 0s 2ms/step - loss: 0.5195 - accuracy: 0.7519 - val_loss: 0.5593 - val_accuracy: 0.7273\n",
            "Epoch 39/50\n",
            "36/36 [==============================] - 0s 2ms/step - loss: 0.5295 - accuracy: 0.7652 - val_loss: 0.5694 - val_accuracy: 0.6970\n",
            "Epoch 40/50\n",
            "36/36 [==============================] - 0s 2ms/step - loss: 0.5042 - accuracy: 0.7860 - val_loss: 0.5485 - val_accuracy: 0.7348\n",
            "Epoch 41/50\n",
            "36/36 [==============================] - 0s 2ms/step - loss: 0.5243 - accuracy: 0.7576 - val_loss: 0.5283 - val_accuracy: 0.7500\n",
            "Epoch 42/50\n",
            "36/36 [==============================] - 0s 2ms/step - loss: 0.5133 - accuracy: 0.7670 - val_loss: 0.5730 - val_accuracy: 0.7045\n",
            "Epoch 43/50\n",
            "36/36 [==============================] - 0s 2ms/step - loss: 0.5036 - accuracy: 0.7879 - val_loss: 0.5469 - val_accuracy: 0.7348\n",
            "Epoch 44/50\n",
            "36/36 [==============================] - 0s 2ms/step - loss: 0.4699 - accuracy: 0.7936 - val_loss: 0.5158 - val_accuracy: 0.7879\n",
            "Epoch 45/50\n",
            "36/36 [==============================] - 0s 2ms/step - loss: 0.4928 - accuracy: 0.7765 - val_loss: 0.5268 - val_accuracy: 0.7500\n",
            "Epoch 46/50\n",
            "36/36 [==============================] - 0s 2ms/step - loss: 0.4644 - accuracy: 0.8049 - val_loss: 0.5422 - val_accuracy: 0.7197\n",
            "Epoch 47/50\n",
            "36/36 [==============================] - 0s 2ms/step - loss: 0.4884 - accuracy: 0.7822 - val_loss: 0.5286 - val_accuracy: 0.7424\n",
            "Epoch 48/50\n",
            "36/36 [==============================] - 0s 2ms/step - loss: 0.4816 - accuracy: 0.7727 - val_loss: 0.5814 - val_accuracy: 0.6970\n",
            "Epoch 49/50\n",
            "36/36 [==============================] - 0s 2ms/step - loss: 0.5280 - accuracy: 0.7689 - val_loss: 0.5207 - val_accuracy: 0.7424\n",
            "Epoch 50/50\n",
            "36/36 [==============================] - 0s 2ms/step - loss: 0.4875 - accuracy: 0.7727 - val_loss: 0.5786 - val_accuracy: 0.7197\n"
          ]
        }
      ]
    },
    {
      "cell_type": "code",
      "source": [
        "# Capturing learning history per epoch\n",
        "hist  = pd.DataFrame(history.history)\n",
        "hist['epoch'] = history.epoch\n",
        "\n",
        "# Plotting accuracy at different epochs\n",
        "plt.plot(hist['loss'])\n",
        "plt.plot(hist['val_loss'])\n",
        "plt.legend((\"train\" , \"valid\") , loc =0)"
      ],
      "metadata": {
        "colab": {
          "base_uri": "https://localhost:8080/",
          "height": 282
        },
        "id": "T9E2IaRunAQA",
        "outputId": "6db3dc96-cd3f-4205-f08d-4b45ede0d7e3"
      },
      "execution_count": null,
      "outputs": [
        {
          "output_type": "execute_result",
          "data": {
            "text/plain": [
              "<matplotlib.legend.Legend at 0x7fae38b1bb50>"
            ]
          },
          "metadata": {},
          "execution_count": 52
        },
        {
          "output_type": "display_data",
          "data": {
            "image/png": "[encoded data removed]",
            "text/plain": [
              "<Figure size 432x288 with 1 Axes>"
            ]
          },
          "metadata": {
            "needs_background": "light"
          }
        }
      ]
    },
    {
      "cell_type": "code",
      "source": [
        "score = model2.evaluate(X_test, y_test)"
      ],
      "metadata": {
        "colab": {
          "base_uri": "https://localhost:8080/"
        },
        "id": "PcTunEeynCwp",
        "outputId": "a1df9801-27e3-4a9e-ddbb-35c4f63ba120"
      },
      "execution_count": null,
      "outputs": [
        {
          "output_type": "stream",
          "name": "stdout",
          "text": [
            "9/9 [==============================] - 0s 2ms/step - loss: 0.6086 - accuracy: 0.6572\n"
          ]
        }
      ]
    },
    {
      "cell_type": "code",
      "source": [
        "print(score)"
      ],
      "metadata": {
        "colab": {
          "base_uri": "https://localhost:8080/"
        },
        "id": "Ds2Bt6DinFO0",
        "outputId": "5073ae9b-175c-4661-f6df-415d4ff946a4"
      },
      "execution_count": null,
      "outputs": [
        {
          "output_type": "stream",
          "name": "stdout",
          "text": [
            "[0.608582079410553, 0.6572437882423401]\n"
          ]
        }
      ]
    },
    {
      "cell_type": "code",
      "source": [
        "### Let's Print confusion matrix\n",
        "\n",
        "## Confusion Matrix on unsee test set\n",
        "import seaborn as sn\n",
        "y_pred1 = model2.predict(X_test)\n",
        "for i in range(len(y_test)):\n",
        "    if y_pred1[i]>0.5:\n",
        "        y_pred1[i]=1 \n",
        "    else:\n",
        "        y_pred1[i]=0\n",
        "\n",
        "\n",
        "\n",
        "cm2=confusion_matrix(y_test, y_pred1)\n",
        "labels = ['True Negative','False Positive','False Negative','True Positive']\n",
        "categories = [ 'Not_Fraud','Fraud']\n",
        "make_confusion_matrix(cm2, \n",
        "                      group_names=labels,\n",
        "                      categories=categories, \n",
        "                      cmap='Blues')"
      ],
      "metadata": {
        "colab": {
          "base_uri": "https://localhost:8080/",
          "height": 338
        },
        "id": "qrPzM35InHJt",
        "outputId": "70e0ccb2-3fed-43d4-c68b-5cb8f3c76514"
      },
      "execution_count": null,
      "outputs": [
        {
          "output_type": "display_data",
          "data": {
            "image/png": "[encoded data removed]",
            "text/plain": [
              "<Figure size 432x288 with 2 Axes>"
            ]
          },
          "metadata": {
            "needs_background": "light"
          }
        }
      ]
    },
    {
      "cell_type": "markdown",
      "source": [
        "Here two hidden layer with hidden node as \"12\" and learnign rate is 0.01"
      ],
      "metadata": {
        "id": "Xyj7XxnmnKNB"
      }
    },
    {
      "cell_type": "code",
      "source": [
        "#initialize the model\n",
        "model3 = Sequential()\n",
        "# This adds the input layer (by specifying input dimension) AND the first hidden layer (units)\n",
        "model3.add(Dense(units=4, input_dim = 2,activation='relu'))   \n",
        "# hidden layer\n",
        "model3.add(Dense(units=12,activation='relu'))\n",
        "#Adding Dropout to prevent overfitting \n",
        "model3.add(Dropout(0.5))\n",
        "#model.add(Dense(24,activation='relu'))\n",
        "model3.add(Dense(12,activation='relu'))\n",
        "# Adding the output layer\n",
        "# Notice that we do not need to specify input dim. \n",
        "# we have an output of 1 node, which is the the desired dimensions of our output \n",
        "# We use the sigmoid because we want probability outcomes\n",
        "model3.add(Dense(1,activation='sigmoid'))\n",
        "# Create optimizer with default learning rate\n",
        "opt = optimizers.Adam(learning_rate=0.01)\n",
        "# Compile the model3\n",
        "\n",
        "model3.compile(optimizer=opt,loss='binary_crossentropy',metrics=['accuracy'])\n",
        "model3.summary()"
      ],
      "metadata": {
        "colab": {
          "base_uri": "https://localhost:8080/"
        },
        "id": "aBw8PSDpnLdB",
        "outputId": "b6cd699b-1570-4c2a-a331-fec6e9609e26"
      },
      "execution_count": null,
      "outputs": [
        {
          "output_type": "stream",
          "name": "stdout",
          "text": [
            "Model: \"sequential_2\"\n",
            "_________________________________________________________________\n",
            " Layer (type)                Output Shape              Param #   \n",
            "=================================================================\n",
            " dense_8 (Dense)             (None, 4)                 12        \n",
            "                                                                 \n",
            " dense_9 (Dense)             (None, 12)                60        \n",
            "                                                                 \n",
            " dropout_2 (Dropout)         (None, 12)                0         \n",
            "                                                                 \n",
            " dense_10 (Dense)            (None, 12)                156       \n",
            "                                                                 \n",
            " dense_11 (Dense)            (None, 1)                 13        \n",
            "                                                                 \n",
            "=================================================================\n",
            "Total params: 241\n",
            "Trainable params: 241\n",
            "Non-trainable params: 0\n",
            "_________________________________________________________________\n"
          ]
        }
      ]
    },
    {
      "cell_type": "code",
      "source": [
        "\n",
        "#fitting the model\n",
        "history=model3.fit(X_train,y_train,batch_size=25,epochs=50,validation_split=0.2)"
      ],
      "metadata": {
        "colab": {
          "base_uri": "https://localhost:8080/"
        },
        "id": "Cq33RJ_WnO1X",
        "outputId": "a043c317-19f9-4931-90bc-4515154bca33"
      },
      "execution_count": null,
      "outputs": [
        {
          "output_type": "stream",
          "name": "stdout",
          "text": [
            "Epoch 1/50\n",
            "22/22 [==============================] - 1s 13ms/step - loss: 0.6876 - accuracy: 0.5568 - val_loss: 0.6704 - val_accuracy: 0.6136\n",
            "Epoch 2/50\n",
            "22/22 [==============================] - 0s 4ms/step - loss: 0.6815 - accuracy: 0.5777 - val_loss: 0.6651 - val_accuracy: 0.6136\n",
            "Epoch 3/50\n",
            "22/22 [==============================] - 0s 7ms/step - loss: 0.6790 - accuracy: 0.5777 - val_loss: 0.6672 - val_accuracy: 0.6136\n",
            "Epoch 4/50\n",
            "22/22 [==============================] - 0s 6ms/step - loss: 0.6777 - accuracy: 0.5701 - val_loss: 0.6676 - val_accuracy: 0.6136\n",
            "Epoch 5/50\n",
            "22/22 [==============================] - 0s 5ms/step - loss: 0.6756 - accuracy: 0.5833 - val_loss: 0.6576 - val_accuracy: 0.6136\n",
            "Epoch 6/50\n",
            "22/22 [==============================] - 0s 4ms/step - loss: 0.6704 - accuracy: 0.6098 - val_loss: 0.6650 - val_accuracy: 0.6288\n",
            "Epoch 7/50\n",
            "22/22 [==============================] - 0s 4ms/step - loss: 0.6790 - accuracy: 0.5701 - val_loss: 0.6498 - val_accuracy: 0.6364\n",
            "Epoch 8/50\n",
            "22/22 [==============================] - 0s 4ms/step - loss: 0.6608 - accuracy: 0.6345 - val_loss: 0.6425 - val_accuracy: 0.6591\n",
            "Epoch 9/50\n",
            "22/22 [==============================] - 0s 4ms/step - loss: 0.6518 - accuracy: 0.6364 - val_loss: 0.6329 - val_accuracy: 0.6515\n",
            "Epoch 10/50\n",
            "22/22 [==============================] - 0s 4ms/step - loss: 0.6387 - accuracy: 0.6572 - val_loss: 0.6232 - val_accuracy: 0.6439\n",
            "Epoch 11/50\n",
            "22/22 [==============================] - 0s 4ms/step - loss: 0.6488 - accuracy: 0.6420 - val_loss: 0.6231 - val_accuracy: 0.6667\n",
            "Epoch 12/50\n",
            "22/22 [==============================] - 0s 4ms/step - loss: 0.6392 - accuracy: 0.6402 - val_loss: 0.6161 - val_accuracy: 0.6439\n",
            "Epoch 13/50\n",
            "22/22 [==============================] - 0s 4ms/step - loss: 0.6333 - accuracy: 0.6629 - val_loss: 0.5980 - val_accuracy: 0.6894\n",
            "Epoch 14/50\n",
            "22/22 [==============================] - 0s 3ms/step - loss: 0.6176 - accuracy: 0.6723 - val_loss: 0.5953 - val_accuracy: 0.6894\n",
            "Epoch 15/50\n",
            "22/22 [==============================] - 0s 5ms/step - loss: 0.6158 - accuracy: 0.6667 - val_loss: 0.5945 - val_accuracy: 0.6818\n",
            "Epoch 16/50\n",
            "22/22 [==============================] - 0s 4ms/step - loss: 0.5990 - accuracy: 0.6686 - val_loss: 0.5622 - val_accuracy: 0.6894\n",
            "Epoch 17/50\n",
            "22/22 [==============================] - 0s 4ms/step - loss: 0.6000 - accuracy: 0.6780 - val_loss: 0.5646 - val_accuracy: 0.6970\n",
            "Epoch 18/50\n",
            "22/22 [==============================] - 0s 4ms/step - loss: 0.5804 - accuracy: 0.7027 - val_loss: 0.5260 - val_accuracy: 0.6970\n",
            "Epoch 19/50\n",
            "22/22 [==============================] - 0s 4ms/step - loss: 0.5899 - accuracy: 0.6875 - val_loss: 0.5073 - val_accuracy: 0.7803\n",
            "Epoch 20/50\n",
            "22/22 [==============================] - 0s 4ms/step - loss: 0.5476 - accuracy: 0.7159 - val_loss: 0.4945 - val_accuracy: 0.7727\n",
            "Epoch 21/50\n",
            "22/22 [==============================] - 0s 6ms/step - loss: 0.5401 - accuracy: 0.7254 - val_loss: 0.4262 - val_accuracy: 0.8333\n",
            "Epoch 22/50\n",
            "22/22 [==============================] - 0s 5ms/step - loss: 0.5052 - accuracy: 0.7500 - val_loss: 0.4232 - val_accuracy: 0.8106\n",
            "Epoch 23/50\n",
            "22/22 [==============================] - 0s 5ms/step - loss: 0.5004 - accuracy: 0.7557 - val_loss: 0.4421 - val_accuracy: 0.7955\n",
            "Epoch 24/50\n",
            "22/22 [==============================] - 0s 5ms/step - loss: 0.5162 - accuracy: 0.7254 - val_loss: 0.5108 - val_accuracy: 0.7348\n",
            "Epoch 25/50\n",
            "22/22 [==============================] - 0s 4ms/step - loss: 0.4878 - accuracy: 0.7330 - val_loss: 0.4364 - val_accuracy: 0.7576\n",
            "Epoch 26/50\n",
            "22/22 [==============================] - 0s 4ms/step - loss: 0.4902 - accuracy: 0.7670 - val_loss: 0.3416 - val_accuracy: 0.8636\n",
            "Epoch 27/50\n",
            "22/22 [==============================] - 0s 3ms/step - loss: 0.4342 - accuracy: 0.7992 - val_loss: 0.3805 - val_accuracy: 0.7803\n",
            "Epoch 28/50\n",
            "22/22 [==============================] - 0s 3ms/step - loss: 0.4403 - accuracy: 0.7841 - val_loss: 0.3973 - val_accuracy: 0.8106\n",
            "Epoch 29/50\n",
            "22/22 [==============================] - 0s 4ms/step - loss: 0.3898 - accuracy: 0.8314 - val_loss: 0.3715 - val_accuracy: 0.7955\n",
            "Epoch 30/50\n",
            "22/22 [==============================] - 0s 2ms/step - loss: 0.4144 - accuracy: 0.7860 - val_loss: 0.3550 - val_accuracy: 0.8333\n",
            "Epoch 31/50\n",
            "22/22 [==============================] - 0s 2ms/step - loss: 0.3891 - accuracy: 0.8068 - val_loss: 0.3952 - val_accuracy: 0.8182\n",
            "Epoch 32/50\n",
            "22/22 [==============================] - 0s 3ms/step - loss: 0.4180 - accuracy: 0.7841 - val_loss: 0.3177 - val_accuracy: 0.8409\n",
            "Epoch 33/50\n",
            "22/22 [==============================] - 0s 3ms/step - loss: 0.4168 - accuracy: 0.7973 - val_loss: 0.3609 - val_accuracy: 0.8258\n",
            "Epoch 34/50\n",
            "22/22 [==============================] - 0s 3ms/step - loss: 0.3524 - accuracy: 0.8352 - val_loss: 0.3648 - val_accuracy: 0.8106\n",
            "Epoch 35/50\n",
            "22/22 [==============================] - 0s 3ms/step - loss: 0.3824 - accuracy: 0.8049 - val_loss: 0.4217 - val_accuracy: 0.8030\n",
            "Epoch 36/50\n",
            "22/22 [==============================] - 0s 3ms/step - loss: 0.3946 - accuracy: 0.7860 - val_loss: 0.4444 - val_accuracy: 0.8106\n",
            "Epoch 37/50\n",
            "22/22 [==============================] - 0s 2ms/step - loss: 0.3366 - accuracy: 0.8258 - val_loss: 0.3689 - val_accuracy: 0.8106\n",
            "Epoch 38/50\n",
            "22/22 [==============================] - 0s 2ms/step - loss: 0.3314 - accuracy: 0.8371 - val_loss: 0.2791 - val_accuracy: 0.8788\n",
            "Epoch 39/50\n",
            "22/22 [==============================] - 0s 4ms/step - loss: 0.3394 - accuracy: 0.8201 - val_loss: 0.3759 - val_accuracy: 0.8030\n",
            "Epoch 40/50\n",
            "22/22 [==============================] - 0s 3ms/step - loss: 0.3370 - accuracy: 0.8144 - val_loss: 0.4281 - val_accuracy: 0.8030\n",
            "Epoch 41/50\n",
            "22/22 [==============================] - 0s 3ms/step - loss: 0.3181 - accuracy: 0.8390 - val_loss: 0.3620 - val_accuracy: 0.8182\n",
            "Epoch 42/50\n",
            "22/22 [==============================] - 0s 2ms/step - loss: 0.3344 - accuracy: 0.8371 - val_loss: 0.4601 - val_accuracy: 0.7955\n",
            "Epoch 43/50\n",
            "22/22 [==============================] - 0s 2ms/step - loss: 0.3543 - accuracy: 0.8371 - val_loss: 0.3956 - val_accuracy: 0.8333\n",
            "Epoch 44/50\n",
            "22/22 [==============================] - 0s 3ms/step - loss: 0.3309 - accuracy: 0.8239 - val_loss: 0.3643 - val_accuracy: 0.8333\n",
            "Epoch 45/50\n",
            "22/22 [==============================] - 0s 3ms/step - loss: 0.3080 - accuracy: 0.8504 - val_loss: 0.3854 - val_accuracy: 0.8182\n",
            "Epoch 46/50\n",
            "22/22 [==============================] - 0s 3ms/step - loss: 0.3122 - accuracy: 0.8390 - val_loss: 0.5083 - val_accuracy: 0.7879\n",
            "Epoch 47/50\n",
            "22/22 [==============================] - 0s 5ms/step - loss: 0.3379 - accuracy: 0.8125 - val_loss: 0.5790 - val_accuracy: 0.7879\n",
            "Epoch 48/50\n",
            "22/22 [==============================] - 0s 3ms/step - loss: 0.3367 - accuracy: 0.8239 - val_loss: 0.3851 - val_accuracy: 0.8258\n",
            "Epoch 49/50\n",
            "22/22 [==============================] - 0s 3ms/step - loss: 0.3231 - accuracy: 0.8409 - val_loss: 0.5647 - val_accuracy: 0.7955\n",
            "Epoch 50/50\n",
            "22/22 [==============================] - 0s 3ms/step - loss: 0.2941 - accuracy: 0.8561 - val_loss: 0.4561 - val_accuracy: 0.8030\n"
          ]
        }
      ]
    },
    {
      "cell_type": "code",
      "source": [
        "# Capturing learning history per epoch\n",
        "hist  = pd.DataFrame(history.history)\n",
        "hist['epoch'] = history.epoch\n",
        "\n",
        "# Plotting accuracy at different epochs\n",
        "plt.plot(hist['loss'])\n",
        "plt.plot(hist['val_loss'])\n",
        "plt.legend((\"train\" , \"valid\") , loc =0)"
      ],
      "metadata": {
        "colab": {
          "base_uri": "https://localhost:8080/",
          "height": 282
        },
        "id": "U-NskAfTnQtm",
        "outputId": "0ed4d0bd-5b9e-41c5-a69a-89d4b8c7a996"
      },
      "execution_count": null,
      "outputs": [
        {
          "output_type": "execute_result",
          "data": {
            "text/plain": [
              "<matplotlib.legend.Legend at 0x7fae387c2a90>"
            ]
          },
          "metadata": {},
          "execution_count": 58
        },
        {
          "output_type": "display_data",
          "data": {
            "image/png": "[encoded data removed]",
            "text/plain": [
              "<Figure size 432x288 with 1 Axes>"
            ]
          },
          "metadata": {
            "needs_background": "light"
          }
        }
      ]
    },
    {
      "cell_type": "code",
      "source": [
        "score = model3.evaluate(X_test, y_test)"
      ],
      "metadata": {
        "colab": {
          "base_uri": "https://localhost:8080/"
        },
        "id": "-iNJRnmpnTGi",
        "outputId": "33b3d438-e0e2-4bfc-b410-86d61f72fae5"
      },
      "execution_count": null,
      "outputs": [
        {
          "output_type": "stream",
          "name": "stdout",
          "text": [
            "9/9 [==============================] - 0s 3ms/step - loss: 0.4665 - accuracy: 0.7951\n"
          ]
        }
      ]
    },
    {
      "cell_type": "code",
      "source": [
        "print(score)"
      ],
      "metadata": {
        "colab": {
          "base_uri": "https://localhost:8080/"
        },
        "id": "A9_pI8BwnVE7",
        "outputId": "360cb90a-639b-4a6b-9703-203fbf3d9e01"
      },
      "execution_count": null,
      "outputs": [
        {
          "output_type": "stream",
          "name": "stdout",
          "text": [
            "[0.46649616956710815, 0.7950530052185059]\n"
          ]
        }
      ]
    },
    {
      "cell_type": "code",
      "source": [
        "### Let's Print confusion matrix\n",
        "\n",
        "## Confusion Matrix on unsee test set\n",
        "import seaborn as sn\n",
        "y_pred1 = model3.predict(X_test)\n",
        "for i in range(len(y_test)):\n",
        "    if y_pred1[i]>0.5:\n",
        "        y_pred1[i]=1 \n",
        "    else:\n",
        "        y_pred1[i]=0\n",
        "\n",
        "\n",
        "\n",
        "cm2=confusion_matrix(y_test, y_pred1)\n",
        "labels = ['True Negative','False Positive','False Negative','True Positive']\n",
        "categories = [ 'Not_Fraud','Fraud']\n",
        "make_confusion_matrix(cm2, \n",
        "                      group_names=labels,\n",
        "                      categories=categories, \n",
        "                      cmap='Blues')"
      ],
      "metadata": {
        "colab": {
          "base_uri": "https://localhost:8080/",
          "height": 338
        },
        "id": "drPMda1HnXJ0",
        "outputId": "dc5769ed-8840-4203-d459-44cda78e2b65"
      },
      "execution_count": null,
      "outputs": [
        {
          "output_type": "display_data",
          "data": {
            "image/png": "[encoded data removed]",
            "text/plain": [
              "<Figure size 432x288 with 2 Axes>"
            ]
          },
          "metadata": {
            "needs_background": "light"
          }
        }
      ]
    },
    {
      "cell_type": "markdown",
      "source": [
        "Here two hidden layer with hidden node as \"16\" and learnign rate is 0.01"
      ],
      "metadata": {
        "id": "9viRjmJynZ0j"
      }
    },
    {
      "cell_type": "code",
      "source": [
        "#initialize the model\n",
        "model4 = Sequential()\n",
        "# This adds the input layer (by specifying input dimension) AND the first hidden layer (units)\n",
        "model4.add(Dense(units=8, input_dim = 2,activation='relu'))   \n",
        "# hidden layer\n",
        "model4.add(Dense(units=16,activation='relu'))\n",
        "#Adding Dropout to prevent overfitting \n",
        "model4.add(Dropout(0.85))\n",
        "#model.add(Dense(24,activation='relu'))\n",
        "model4.add(Dense(16,activation='relu'))\n",
        "# Adding the output layer\n",
        "# Notice that we do not need to specify input dim. \n",
        "# we have an output of 1 node, which is the the desired dimensions of our output (fraud or not)\n",
        "# We use the sigmoid because we want probability outcomes\n",
        "model4.add(Dense(1,activation='sigmoid'))\n",
        "# Create optimizer with default learning rate\n",
        "# Compile the model\n",
        "model4.compile(optimizer='adam',loss='binary_crossentropy',metrics=['accuracy'])\n",
        "model4.summary()"
      ],
      "metadata": {
        "colab": {
          "base_uri": "https://localhost:8080/"
        },
        "id": "GDINf_0OnaoL",
        "outputId": "d6dc49a8-d87b-4290-953a-66cd12fbf054"
      },
      "execution_count": null,
      "outputs": [
        {
          "output_type": "stream",
          "name": "stdout",
          "text": [
            "Model: \"sequential_3\"\n",
            "_________________________________________________________________\n",
            " Layer (type)                Output Shape              Param #   \n",
            "=================================================================\n",
            " dense_12 (Dense)            (None, 8)                 24        \n",
            "                                                                 \n",
            " dense_13 (Dense)            (None, 16)                144       \n",
            "                                                                 \n",
            " dropout_3 (Dropout)         (None, 16)                0         \n",
            "                                                                 \n",
            " dense_14 (Dense)            (None, 16)                272       \n",
            "                                                                 \n",
            " dense_15 (Dense)            (None, 1)                 17        \n",
            "                                                                 \n",
            "=================================================================\n",
            "Total params: 457\n",
            "Trainable params: 457\n",
            "Non-trainable params: 0\n",
            "_________________________________________________________________\n"
          ]
        }
      ]
    },
    {
      "cell_type": "code",
      "source": [
        "#fitting the model\n",
        "history=model4.fit(X_train,y_train,batch_size=25,epochs=50,validation_split=0.2)"
      ],
      "metadata": {
        "colab": {
          "base_uri": "https://localhost:8080/"
        },
        "id": "jJVF5o2Hnddw",
        "outputId": "42297063-6cef-41d6-f259-1ecf855ebb35"
      },
      "execution_count": null,
      "outputs": [
        {
          "output_type": "stream",
          "name": "stdout",
          "text": [
            "Epoch 1/50\n",
            "22/22 [==============================] - 1s 13ms/step - loss: 0.6925 - accuracy: 0.5758 - val_loss: 0.6793 - val_accuracy: 0.6136\n",
            "Epoch 2/50\n",
            "22/22 [==============================] - 0s 4ms/step - loss: 0.6886 - accuracy: 0.5701 - val_loss: 0.6799 - val_accuracy: 0.6136\n",
            "Epoch 3/50\n",
            "22/22 [==============================] - 0s 4ms/step - loss: 0.6775 - accuracy: 0.5701 - val_loss: 0.6795 - val_accuracy: 0.6136\n",
            "Epoch 4/50\n",
            "22/22 [==============================] - 0s 4ms/step - loss: 0.6803 - accuracy: 0.5795 - val_loss: 0.6773 - val_accuracy: 0.6136\n",
            "Epoch 5/50\n",
            "22/22 [==============================] - 0s 4ms/step - loss: 0.6801 - accuracy: 0.5795 - val_loss: 0.6764 - val_accuracy: 0.6136\n",
            "Epoch 6/50\n",
            "22/22 [==============================] - 0s 5ms/step - loss: 0.6949 - accuracy: 0.5720 - val_loss: 0.6777 - val_accuracy: 0.6136\n",
            "Epoch 7/50\n",
            "22/22 [==============================] - 0s 4ms/step - loss: 0.6880 - accuracy: 0.5701 - val_loss: 0.6778 - val_accuracy: 0.6136\n",
            "Epoch 8/50\n",
            "22/22 [==============================] - 0s 4ms/step - loss: 0.6883 - accuracy: 0.5795 - val_loss: 0.6783 - val_accuracy: 0.6136\n",
            "Epoch 9/50\n",
            "22/22 [==============================] - 0s 5ms/step - loss: 0.6799 - accuracy: 0.5758 - val_loss: 0.6764 - val_accuracy: 0.6136\n",
            "Epoch 10/50\n",
            "22/22 [==============================] - 0s 4ms/step - loss: 0.6810 - accuracy: 0.5758 - val_loss: 0.6758 - val_accuracy: 0.6136\n",
            "Epoch 11/50\n",
            "22/22 [==============================] - 0s 4ms/step - loss: 0.6781 - accuracy: 0.5758 - val_loss: 0.6751 - val_accuracy: 0.6136\n",
            "Epoch 12/50\n",
            "22/22 [==============================] - 0s 5ms/step - loss: 0.6787 - accuracy: 0.5758 - val_loss: 0.6744 - val_accuracy: 0.6136\n",
            "Epoch 13/50\n",
            "22/22 [==============================] - 0s 5ms/step - loss: 0.6852 - accuracy: 0.5758 - val_loss: 0.6753 - val_accuracy: 0.6136\n",
            "Epoch 14/50\n",
            "22/22 [==============================] - 0s 4ms/step - loss: 0.6881 - accuracy: 0.5758 - val_loss: 0.6763 - val_accuracy: 0.6136\n",
            "Epoch 15/50\n",
            "22/22 [==============================] - 0s 4ms/step - loss: 0.6841 - accuracy: 0.5758 - val_loss: 0.6764 - val_accuracy: 0.6136\n",
            "Epoch 16/50\n",
            "22/22 [==============================] - 0s 4ms/step - loss: 0.6801 - accuracy: 0.5739 - val_loss: 0.6764 - val_accuracy: 0.6136\n",
            "Epoch 17/50\n",
            "22/22 [==============================] - 0s 4ms/step - loss: 0.6795 - accuracy: 0.5777 - val_loss: 0.6744 - val_accuracy: 0.6136\n",
            "Epoch 18/50\n",
            "22/22 [==============================] - 0s 4ms/step - loss: 0.6811 - accuracy: 0.5777 - val_loss: 0.6736 - val_accuracy: 0.6136\n",
            "Epoch 19/50\n",
            "22/22 [==============================] - 0s 4ms/step - loss: 0.6724 - accuracy: 0.5777 - val_loss: 0.6736 - val_accuracy: 0.6136\n",
            "Epoch 20/50\n",
            "22/22 [==============================] - 0s 5ms/step - loss: 0.6794 - accuracy: 0.5777 - val_loss: 0.6717 - val_accuracy: 0.6136\n",
            "Epoch 21/50\n",
            "22/22 [==============================] - 0s 4ms/step - loss: 0.6793 - accuracy: 0.5777 - val_loss: 0.6720 - val_accuracy: 0.6136\n",
            "Epoch 22/50\n",
            "22/22 [==============================] - 0s 5ms/step - loss: 0.6762 - accuracy: 0.5777 - val_loss: 0.6720 - val_accuracy: 0.6136\n",
            "Epoch 23/50\n",
            "22/22 [==============================] - 0s 4ms/step - loss: 0.6796 - accuracy: 0.5777 - val_loss: 0.6719 - val_accuracy: 0.6136\n",
            "Epoch 24/50\n",
            "22/22 [==============================] - 0s 4ms/step - loss: 0.6794 - accuracy: 0.5758 - val_loss: 0.6716 - val_accuracy: 0.6136\n",
            "Epoch 25/50\n",
            "22/22 [==============================] - 0s 5ms/step - loss: 0.6788 - accuracy: 0.5777 - val_loss: 0.6720 - val_accuracy: 0.6136\n",
            "Epoch 26/50\n",
            "22/22 [==============================] - 0s 9ms/step - loss: 0.6796 - accuracy: 0.5777 - val_loss: 0.6723 - val_accuracy: 0.6136\n",
            "Epoch 27/50\n",
            "22/22 [==============================] - 0s 9ms/step - loss: 0.6792 - accuracy: 0.5795 - val_loss: 0.6715 - val_accuracy: 0.6136\n",
            "Epoch 28/50\n",
            "22/22 [==============================] - 0s 11ms/step - loss: 0.6781 - accuracy: 0.5777 - val_loss: 0.6722 - val_accuracy: 0.6136\n",
            "Epoch 29/50\n",
            "22/22 [==============================] - 0s 9ms/step - loss: 0.6742 - accuracy: 0.5814 - val_loss: 0.6724 - val_accuracy: 0.6136\n",
            "Epoch 30/50\n",
            "22/22 [==============================] - 0s 10ms/step - loss: 0.6721 - accuracy: 0.5758 - val_loss: 0.6709 - val_accuracy: 0.6136\n",
            "Epoch 31/50\n",
            "22/22 [==============================] - 0s 8ms/step - loss: 0.6772 - accuracy: 0.5795 - val_loss: 0.6717 - val_accuracy: 0.6136\n",
            "Epoch 32/50\n",
            "22/22 [==============================] - 0s 5ms/step - loss: 0.6762 - accuracy: 0.5795 - val_loss: 0.6713 - val_accuracy: 0.6136\n",
            "Epoch 33/50\n",
            "22/22 [==============================] - 0s 4ms/step - loss: 0.6769 - accuracy: 0.5777 - val_loss: 0.6719 - val_accuracy: 0.6136\n",
            "Epoch 34/50\n",
            "22/22 [==============================] - 0s 3ms/step - loss: 0.6751 - accuracy: 0.5777 - val_loss: 0.6721 - val_accuracy: 0.6136\n",
            "Epoch 35/50\n",
            "22/22 [==============================] - 0s 2ms/step - loss: 0.6838 - accuracy: 0.5777 - val_loss: 0.6708 - val_accuracy: 0.6136\n",
            "Epoch 36/50\n",
            "22/22 [==============================] - 0s 2ms/step - loss: 0.6745 - accuracy: 0.5777 - val_loss: 0.6717 - val_accuracy: 0.6136\n",
            "Epoch 37/50\n",
            "22/22 [==============================] - 0s 4ms/step - loss: 0.6784 - accuracy: 0.5777 - val_loss: 0.6706 - val_accuracy: 0.6136\n",
            "Epoch 38/50\n",
            "22/22 [==============================] - 0s 3ms/step - loss: 0.6750 - accuracy: 0.5777 - val_loss: 0.6721 - val_accuracy: 0.6136\n",
            "Epoch 39/50\n",
            "22/22 [==============================] - 0s 2ms/step - loss: 0.6794 - accuracy: 0.5777 - val_loss: 0.6721 - val_accuracy: 0.6136\n",
            "Epoch 40/50\n",
            "22/22 [==============================] - 0s 3ms/step - loss: 0.6768 - accuracy: 0.5777 - val_loss: 0.6712 - val_accuracy: 0.6136\n",
            "Epoch 41/50\n",
            "22/22 [==============================] - 0s 2ms/step - loss: 0.6763 - accuracy: 0.5777 - val_loss: 0.6709 - val_accuracy: 0.6136\n",
            "Epoch 42/50\n",
            "22/22 [==============================] - 0s 3ms/step - loss: 0.6747 - accuracy: 0.5777 - val_loss: 0.6711 - val_accuracy: 0.6136\n",
            "Epoch 43/50\n",
            "22/22 [==============================] - 0s 3ms/step - loss: 0.6766 - accuracy: 0.5833 - val_loss: 0.6698 - val_accuracy: 0.6136\n",
            "Epoch 44/50\n",
            "22/22 [==============================] - 0s 2ms/step - loss: 0.6754 - accuracy: 0.5795 - val_loss: 0.6686 - val_accuracy: 0.6136\n",
            "Epoch 45/50\n",
            "22/22 [==============================] - 0s 2ms/step - loss: 0.6763 - accuracy: 0.5758 - val_loss: 0.6690 - val_accuracy: 0.6136\n",
            "Epoch 46/50\n",
            "22/22 [==============================] - 0s 2ms/step - loss: 0.6761 - accuracy: 0.5777 - val_loss: 0.6698 - val_accuracy: 0.6136\n",
            "Epoch 47/50\n",
            "22/22 [==============================] - 0s 2ms/step - loss: 0.6698 - accuracy: 0.5777 - val_loss: 0.6706 - val_accuracy: 0.6136\n",
            "Epoch 48/50\n",
            "22/22 [==============================] - 0s 3ms/step - loss: 0.6782 - accuracy: 0.5777 - val_loss: 0.6710 - val_accuracy: 0.6136\n",
            "Epoch 49/50\n",
            "22/22 [==============================] - 0s 2ms/step - loss: 0.6782 - accuracy: 0.5777 - val_loss: 0.6707 - val_accuracy: 0.6136\n",
            "Epoch 50/50\n",
            "22/22 [==============================] - 0s 2ms/step - loss: 0.6788 - accuracy: 0.5777 - val_loss: 0.6706 - val_accuracy: 0.6136\n"
          ]
        }
      ]
    },
    {
      "cell_type": "code",
      "source": [
        "# Capturing learning history per epoch\n",
        "hist  = pd.DataFrame(history.history)\n",
        "hist['epoch'] = history.epoch\n",
        "\n",
        "# Plotting accuracy at different epochs\n",
        "plt.plot(hist['loss'])\n",
        "plt.plot(hist['val_loss'])\n",
        "plt.legend((\"train\" , \"valid\") , loc =0)"
      ],
      "metadata": {
        "colab": {
          "base_uri": "https://localhost:8080/",
          "height": 282
        },
        "id": "hDbb389qngcq",
        "outputId": "43fd2ff1-6471-4f0c-b8c6-7aa306bb1d00"
      },
      "execution_count": null,
      "outputs": [
        {
          "output_type": "execute_result",
          "data": {
            "text/plain": [
              "<matplotlib.legend.Legend at 0x7fae3605c810>"
            ]
          },
          "metadata": {},
          "execution_count": 64
        },
        {
          "output_type": "display_data",
          "data": {
            "image/png": "[encoded data removed]",
            "text/plain": [
              "<Figure size 432x288 with 1 Axes>"
            ]
          },
          "metadata": {
            "needs_background": "light"
          }
        }
      ]
    },
    {
      "cell_type": "code",
      "source": [
        "score = model4.evaluate(X_test, y_test)"
      ],
      "metadata": {
        "colab": {
          "base_uri": "https://localhost:8080/"
        },
        "id": "5gOwApsXnipT",
        "outputId": "23181ac3-009d-430c-c7e9-bd37bffddec2"
      },
      "execution_count": null,
      "outputs": [
        {
          "output_type": "stream",
          "name": "stdout",
          "text": [
            "9/9 [==============================] - 0s 2ms/step - loss: 0.6650 - accuracy: 0.6466\n"
          ]
        }
      ]
    },
    {
      "cell_type": "code",
      "source": [
        "print(score)"
      ],
      "metadata": {
        "colab": {
          "base_uri": "https://localhost:8080/"
        },
        "id": "DQgQESqKnjzH",
        "outputId": "e2e6a043-5b32-4b33-8b30-af6934217cef"
      },
      "execution_count": null,
      "outputs": [
        {
          "output_type": "stream",
          "name": "stdout",
          "text": [
            "[0.6650264263153076, 0.6466431021690369]\n"
          ]
        }
      ]
    },
    {
      "cell_type": "code",
      "source": [
        "### Let's Print confusion matrix\n",
        "\n",
        "## Confusion Matrix on unsee test set\n",
        "import seaborn as sn\n",
        "y_pred1 = model4.predict(X_test)\n",
        "for i in range(len(y_test)):\n",
        "    if y_pred1[i]>0.5:\n",
        "        y_pred1[i]=1 \n",
        "    else:\n",
        "        y_pred1[i]=0\n",
        "\n",
        "\n",
        "\n",
        "cm2=confusion_matrix(y_test, y_pred1)\n",
        "labels = ['True Negative','False Positive','False Negative','True Positive']\n",
        "categories = [ 'Not_Fraud','Fraud']\n",
        "make_confusion_matrix(cm2, \n",
        "                      group_names=labels,\n",
        "                      categories=categories, \n",
        "                      cmap='Blues')"
      ],
      "metadata": {
        "colab": {
          "base_uri": "https://localhost:8080/",
          "height": 338
        },
        "id": "VwSHbSLinm8f",
        "outputId": "15226c76-a86f-482f-8df5-1fccfc6a96bc"
      },
      "execution_count": null,
      "outputs": [
        {
          "output_type": "display_data",
          "data": {
            "image/png": "[encoded data removed]",
            "text/plain": [
              "<Figure size 432x288 with 2 Axes>"
            ]
          },
          "metadata": {
            "needs_background": "light"
          }
        }
      ]
    },
    {
      "cell_type": "markdown",
      "source": [
        "### Conclusion"
      ],
      "metadata": {
        "id": "fm6W1GplnpcZ"
      }
    },
    {
      "cell_type": "markdown",
      "source": [
        "* From the above evaluation using double hidden layer deep networks by varying the number of hidden nodes (4, 8, 12, 16) in each layer, Following things are observed:-\n",
        "  1. with increase in the number of hidden nodes, accuracy got increased.\n",
        "  2. increasing the epoc improve the result (make sure that over fitting does not happen )"
      ],
      "metadata": {
        "id": "wp3kIzuJnq-S"
      }
    }
  ]
}